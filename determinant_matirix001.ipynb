{
 "cells": [
  {
   "cell_type": "code",
   "execution_count": 4,
   "id": "3a86ec54",
   "metadata": {},
   "outputs": [
    {
     "name": "stdout",
     "output_type": "stream",
     "text": [
      "행렬 A:\n",
      "[[2. 1. 3.]\n",
      " [1. 0. 2.]\n",
      " [4. 1. 8.]]\n",
      "\n",
      "[NumPy] determinant = -1.0\n",
      "[SymPy] determinant = -1.00000000000000\n",
      "[SciPy] determinant = -1.0\n"
     ]
    }
   ],
   "source": [
    "import numpy as np\n",
    "import sympy as sp\n",
    "from scipy import linalg\n",
    "\n",
    "# 예시: 3x3 정방행렬\n",
    "A = np.array([[2, 1, 3],\n",
    "              [1, 0, 2],\n",
    "              [4, 1, 8]], dtype=float)\n",
    "\n",
    "\n",
    "\n",
    "print(\"행렬 A:\")\n",
    "print(A)\n",
    "\n",
    "# ------------------------------\n",
    "# 1. NumPy를 이용한 determinant\n",
    "# ------------------------------\n",
    "det_numpy = np.linalg.det(A)\n",
    "print(\"\\n[NumPy] determinant =\", det_numpy)\n",
    "\n",
    "# ------------------------------\n",
    "# 2. SymPy를 이용한 determinant\n",
    "# ------------------------------\n",
    "A_sym = sp.Matrix(A)\n",
    "det_sympy = A_sym.det()\n",
    "print(\"[SymPy] determinant =\", det_sympy)\n",
    "\n",
    "# ------------------------------\n",
    "# 3. SciPy를 이용한 determinant\n",
    "# ------------------------------\n",
    "det_scipy = linalg.det(A)\n",
    "print(\"[SciPy] determinant =\", det_scipy)"
   ]
  },
  {
   "cell_type": "code",
   "execution_count": 5,
   "id": "6ec0c7ed",
   "metadata": {},
   "outputs": [
    {
     "name": "stdout",
     "output_type": "stream",
     "text": [
      "행렬 A1:\n",
      "[[1. 1. 2.]\n",
      " [2. 2. 1.]\n",
      " [4. 3. 0.]]\n",
      "\n",
      "[NumPy] determinant = -2.9999999999999996\n",
      "[SymPy] determinant = -3.00000000000000\n",
      "[SciPy] determinant = -3.0\n"
     ]
    }
   ],
   "source": [
    "A1 = np.array([[1, 1, 2],\n",
    "               [2, 2, 1],   \n",
    "                [4, 3, 0]], dtype=float)\n",
    "print(\"행렬 A1:\")\n",
    "print(A1)\n",
    "\n",
    "# ------------------------------\n",
    "# 1. NumPy를 이용한 determinant\n",
    "# ------------------------------\n",
    "det_numpy = np.linalg.det(A1)\n",
    "print(\"\\n[NumPy] determinant =\", det_numpy)\n",
    "\n",
    "# ------------------------------\n",
    "# 2. SymPy를 이용한 determinant\n",
    "# ------------------------------\n",
    "A_sym = sp.Matrix(A1)\n",
    "det_sympy = A_sym.det()\n",
    "print(\"[SymPy] determinant =\", det_sympy)\n",
    "\n",
    "# ------------------------------\n",
    "# 3. SciPy를 이용한 determinant\n",
    "# ------------------------------\n",
    "det_scipy = linalg.det(A1)\n",
    "print(\"[SciPy] determinant =\", det_scipy)"
   ]
  },
  {
   "cell_type": "code",
   "execution_count": 6,
   "id": "b5df01f5",
   "metadata": {},
   "outputs": [
    {
     "name": "stdout",
     "output_type": "stream",
     "text": [
      "행렬 A2:\n",
      "[[1. 1. 2.]\n",
      " [4. 3. 0.]\n",
      " [2. 2. 1.]]\n",
      "\n",
      "[NumPy] determinant = 2.9999999999999996\n",
      "[SymPy] determinant = 3.00000000000000\n",
      "[SciPy] determinant = 3.0\n"
     ]
    }
   ],
   "source": [
    "A2 = np.array([[1, 1, 2],\n",
    "               [4, 3,0],   \n",
    "                [2, 2, 1]], dtype=float)\n",
    "print(\"행렬 A2:\")\n",
    "print(A2)\n",
    "det_numpy = np.linalg.det(A2)\n",
    "print(\"\\n[NumPy] determinant =\", det_numpy)\n",
    "\n",
    "\n",
    "A_sym = sp.Matrix(A2)\n",
    "det_sympy = A_sym.det()\n",
    "print(\"[SymPy] determinant =\", det_sympy)\n",
    "\n",
    "# ------------------------------\n",
    "# 3. SciPy를 이용한 determinant\n",
    "# ------------------------------\n",
    "det_scipy = linalg.det(A2)\n",
    "print(\"[SciPy] determinant =\", det_scipy)"
   ]
  },
  {
   "cell_type": "code",
   "execution_count": 7,
   "id": "0c2be9e9",
   "metadata": {},
   "outputs": [
    {
     "name": "stdout",
     "output_type": "stream",
     "text": [
      "행렬 A3:\n",
      "[[1. 2. 4.]\n",
      " [1. 2. 3.]\n",
      " [2. 1. 0.]]\n",
      "\n",
      "[NumPy] determinant = -2.9999999999999996\n",
      "[SymPy] determinant = -3.00000000000000\n",
      "[SciPy] determinant = -3.0\n"
     ]
    }
   ],
   "source": [
    "A3 = np.array([[1, 2, 4],\n",
    "               [1, 2,3],   \n",
    "                [2, 1, 0]], dtype=float)\n",
    "print(\"행렬 A3:\")\n",
    "print(A3)\n",
    "det_numpy = np.linalg.det(A3)\n",
    "print(\"\\n[NumPy] determinant =\", det_numpy)\n",
    "\n",
    "\n",
    "A_sym = sp.Matrix(A3)\n",
    "det_sympy = A_sym.det()\n",
    "print(\"[SymPy] determinant =\", det_sympy)\n",
    "\n",
    "# ------------------------------\n",
    "# 3. SciPy를 이용한 determinant\n",
    "# ------------------------------\n",
    "det_scipy = linalg.det(A3)\n",
    "print(\"[SciPy] determinant =\", det_scipy)"
   ]
  },
  {
   "cell_type": "code",
   "execution_count": 8,
   "id": "74fde0a9",
   "metadata": {},
   "outputs": [
    {
     "name": "stdout",
     "output_type": "stream",
     "text": [
      "행렬 A4:\n",
      "[[ 1. -2.  3.]\n",
      " [-4.  5. -6.]\n",
      " [ 7. -8.  9.]]\n",
      "\n",
      "[NumPy] determinant = 0.0\n",
      "[SymPy] determinant = 0\n",
      "[SciPy] determinant = 0.0\n"
     ]
    }
   ],
   "source": [
    "A4 = np.array([[1, -2, 3],\n",
    "               [-4, 5,-6],   \n",
    "                [7, -8, 9]], dtype=float)\n",
    "print(\"행렬 A4:\")\n",
    "print(A4)\n",
    "det_numpy = np.linalg.det(A4)\n",
    "print(\"\\n[NumPy] determinant =\", det_numpy)\n",
    "\n",
    "\n",
    "A_sym = sp.Matrix(A4)\n",
    "det_sympy = A_sym.det()\n",
    "print(\"[SymPy] determinant =\", det_sympy)\n",
    "\n",
    "# ------------------------------\n",
    "# 3. SciPy를 이용한 determinant\n",
    "# ------------------------------\n",
    "det_scipy = linalg.det(A4)\n",
    "print(\"[SciPy] determinant =\", det_scipy)"
   ]
  }
 ],
 "metadata": {
  "kernelspec": {
   "display_name": "Python 3",
   "language": "python",
   "name": "python3"
  },
  "language_info": {
   "codemirror_mode": {
    "name": "ipython",
    "version": 3
   },
   "file_extension": ".py",
   "mimetype": "text/x-python",
   "name": "python",
   "nbconvert_exporter": "python",
   "pygments_lexer": "ipython3",
   "version": "3.13.5"
  }
 },
 "nbformat": 4,
 "nbformat_minor": 5
}
