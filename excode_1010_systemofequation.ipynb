{
 "cells": [
  {
   "cell_type": "code",
   "execution_count": 1,
   "id": "3f680bc3",
   "metadata": {},
   "outputs": [],
   "source": [
    "# from scipy.linalg import lu\n",
    "# P,L,U=lu(A)\n"
   ]
  },
  {
   "cell_type": "code",
   "execution_count": 3,
   "id": "442ab6b8",
   "metadata": {},
   "outputs": [
    {
     "name": "stdout",
     "output_type": "stream",
     "text": [
      "[[1 2]\n",
      " [3 4]]\n",
      "[[1 3]\n",
      " [2 4]]\n",
      "[[-2.   1. ]\n",
      " [ 1.5 -0.5]]\n"
     ]
    }
   ],
   "source": [
    "import numpy as np\n",
    "a=np.asmatrix('[1,2;3,4]')\n",
    "print(a)\n",
    "print(a.T)\n",
    "print(a.I)  # Inverse of the matrix"
   ]
  },
  {
   "cell_type": "code",
   "execution_count": null,
   "id": "f258fc98",
   "metadata": {},
   "outputs": [],
   "source": [
    "\n"
   ]
  }
 ],
 "metadata": {
  "kernelspec": {
   "display_name": "Python 3",
   "language": "python",
   "name": "python3"
  },
  "language_info": {
   "codemirror_mode": {
    "name": "ipython",
    "version": 3
   },
   "file_extension": ".py",
   "mimetype": "text/x-python",
   "name": "python",
   "nbconvert_exporter": "python",
   "pygments_lexer": "ipython3",
   "version": "3.13.5"
  }
 },
 "nbformat": 4,
 "nbformat_minor": 5
}
