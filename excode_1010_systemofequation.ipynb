{
 "cells": [
  {
   "cell_type": "code",
   "execution_count": 3,
   "id": "3f680bc3",
   "metadata": {},
   "outputs": [
    {
     "name": "stdout",
     "output_type": "stream",
     "text": [
      "Matrix P:\n",
      "[[0. 1. 0.]\n",
      " [0. 0. 1.]\n",
      " [1. 0. 0.]]\n",
      "Matrix L:\n",
      "[[1.    0.    0.   ]\n",
      " [0.125 1.    0.   ]\n",
      " [0.25  0.    1.   ]]\n",
      "Matrix U:\n",
      "[[8.  0.  4.  0. ]\n",
      " [0.  2.  1.5 4. ]\n",
      " [0.  0.  2.  2. ]]\n",
      "Product of P, L, and U:\n",
      "[[1. 2. 2. 4.]\n",
      " [2. 0. 3. 2.]\n",
      " [8. 0. 4. 0.]]\n"
     ]
    }
   ],
   "source": [
    "import numpy as np\n",
    "from scipy.linalg import lu\n",
    "A= np.array([[1, 2, 2,4], [2,0, 3, 2], [8, 0, 4,0]])\n",
    "P,L,U=lu(A)\n",
    "print(\"Matrix P:\")\n",
    "print(P)\n",
    "print(\"Matrix L:\")\n",
    "print(L)\n",
    "print(\"Matrix U:\")\n",
    "print(U)\n",
    "print(\"Product of P, L, and U:\")\n",
    "print(np.dot(P, np.dot(L, U)))\n"
   ]
  },
  {
   "cell_type": "code",
   "execution_count": 3,
   "id": "442ab6b8",
   "metadata": {},
   "outputs": [
    {
     "name": "stdout",
     "output_type": "stream",
     "text": [
      "[[1 2]\n",
      " [3 4]]\n",
      "[[1 3]\n",
      " [2 4]]\n",
      "[[-2.   1. ]\n",
      " [ 1.5 -0.5]]\n"
     ]
    }
   ],
   "source": [
    "import numpy as np\n",
    "a=np.asmatrix('[1,2;3,4]')\n",
    "print(a)\n",
    "print(a.T)\n",
    "print(a.I)  # Inverse of the matrix"
   ]
  },
  {
   "cell_type": "code",
   "execution_count": null,
   "id": "848868ad",
   "metadata": {},
   "outputs": [],
   "source": []
  },
  {
   "cell_type": "code",
   "execution_count": null,
   "id": "3f9caece",
   "metadata": {},
   "outputs": [],
   "source": []
  },
  {
   "cell_type": "code",
   "execution_count": null,
   "id": "f258fc98",
   "metadata": {},
   "outputs": [],
   "source": [
    "\n"
   ]
  }
 ],
 "metadata": {
  "kernelspec": {
   "display_name": "Python 3",
   "language": "python",
   "name": "python3"
  },
  "language_info": {
   "codemirror_mode": {
    "name": "ipython",
    "version": 3
   },
   "file_extension": ".py",
   "mimetype": "text/x-python",
   "name": "python",
   "nbconvert_exporter": "python",
   "pygments_lexer": "ipython3",
   "version": "3.13.5"
  }
 },
 "nbformat": 4,
 "nbformat_minor": 5
}
