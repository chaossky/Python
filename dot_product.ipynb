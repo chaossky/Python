{
 "cells": [
  {
   "cell_type": "code",
   "execution_count": 1,
   "id": "339762bb",
   "metadata": {},
   "outputs": [
    {
     "name": "stdout",
     "output_type": "stream",
     "text": [
      "v1: [3 3]\n",
      "v2: [5 1]\n",
      "v3: 18\n"
     ]
    }
   ],
   "source": [
    "import numpy as np\n",
    "v1 = np.array([3, 3])\n",
    "v2 = np.array([5, 1])\n",
    "v3 = v1.dot(v2)\n",
    "print(\"v1:\", v1)    \n",
    "print(\"v2:\", v2)\n",
    "print(\"v3:\", v3) "
   ]
  }
 ],
 "metadata": {
  "kernelspec": {
   "display_name": "Python 3",
   "language": "python",
   "name": "python3"
  },
  "language_info": {
   "codemirror_mode": {
    "name": "ipython",
    "version": 3
   },
   "file_extension": ".py",
   "mimetype": "text/x-python",
   "name": "python",
   "nbconvert_exporter": "python",
   "pygments_lexer": "ipython3",
   "version": "3.13.5"
  }
 },
 "nbformat": 4,
 "nbformat_minor": 5
}
