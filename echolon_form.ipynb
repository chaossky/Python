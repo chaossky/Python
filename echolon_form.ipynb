{
 "cells": [
  {
   "cell_type": "code",
   "execution_count": null,
   "id": "ac767192",
   "metadata": {},
   "outputs": [
    {
     "data": {
      "text/latex": [
       "$\\displaystyle \\text{Initial Matrix}$"
      ],
      "text/plain": [
       "<IPython.core.display.Math object>"
      ]
     },
     "metadata": {},
     "output_type": "display_data"
    },
    {
     "data": {
      "text/latex": [
       "$\\displaystyle \\left[ \\left[\\begin{matrix}2.0 & 4.0 & -2.0\\\\4.0 & 9.0 & -3.0\\\\-2.0 & -3.0 & 7.0\\\\0.0 & -2.0 & 6.0\\end{matrix}\\right] \\right]$"
      ],
      "text/plain": [
       "<IPython.core.display.Math object>"
      ]
     },
     "metadata": {},
     "output_type": "display_data"
    },
    {
     "data": {
      "text/latex": [
       "$\\displaystyle \\text{Swap row 1 with row 2}$"
      ],
      "text/plain": [
       "<IPython.core.display.Math object>"
      ]
     },
     "metadata": {},
     "output_type": "display_data"
    },
    {
     "data": {
      "text/latex": [
       "$\\displaystyle \\left[ \\left[\\begin{matrix}4.0 & 9.0 & -3.0\\\\2.0 & 4.0 & -2.0\\\\-2.0 & -3.0 & 7.0\\\\0.0 & -2.0 & 6.0\\end{matrix}\\right] \\right]$"
      ],
      "text/plain": [
       "<IPython.core.display.Math object>"
      ]
     },
     "metadata": {},
     "output_type": "display_data"
    },
    {
     "data": {
      "text/latex": [
       "$\\displaystyle \\text{Make pivot in row 1 a 1}$"
      ],
      "text/plain": [
       "<IPython.core.display.Math object>"
      ]
     },
     "metadata": {},
     "output_type": "display_data"
    },
    {
     "data": {
      "text/latex": [
       "$\\displaystyle \\left[ \\left[\\begin{matrix}1.0 & 2.25 & -0.75\\\\2.0 & 4.0 & -2.0\\\\-2.0 & -3.0 & 7.0\\\\0.0 & -2.0 & 6.0\\end{matrix}\\right] \\right]$"
      ],
      "text/plain": [
       "<IPython.core.display.Math object>"
      ]
     },
     "metadata": {},
     "output_type": "display_data"
    },
    {
     "data": {
      "text/latex": [
       "$\\displaystyle \\text{Eliminate entry in row 2, col 1}$"
      ],
      "text/plain": [
       "<IPython.core.display.Math object>"
      ]
     },
     "metadata": {},
     "output_type": "display_data"
    },
    {
     "data": {
      "text/latex": [
       "$\\displaystyle \\left[ \\left[\\begin{matrix}1.0 & 2.25 & -0.75\\\\0.0 & -0.5 & -0.5\\\\-2.0 & -3.0 & 7.0\\\\0.0 & -2.0 & 6.0\\end{matrix}\\right] \\right]$"
      ],
      "text/plain": [
       "<IPython.core.display.Math object>"
      ]
     },
     "metadata": {},
     "output_type": "display_data"
    },
    {
     "data": {
      "text/latex": [
       "$\\displaystyle \\text{Eliminate entry in row 3, col 1}$"
      ],
      "text/plain": [
       "<IPython.core.display.Math object>"
      ]
     },
     "metadata": {},
     "output_type": "display_data"
    },
    {
     "data": {
      "text/latex": [
       "$\\displaystyle \\left[ \\left[\\begin{matrix}1.0 & 2.25 & -0.75\\\\0.0 & -0.5 & -0.5\\\\0.0 & 1.5 & 5.5\\\\0.0 & -2.0 & 6.0\\end{matrix}\\right] \\right]$"
      ],
      "text/plain": [
       "<IPython.core.display.Math object>"
      ]
     },
     "metadata": {},
     "output_type": "display_data"
    },
    {
     "data": {
      "text/latex": [
       "$\\displaystyle \\text{Swap row 2 with row 4}$"
      ],
      "text/plain": [
       "<IPython.core.display.Math object>"
      ]
     },
     "metadata": {},
     "output_type": "display_data"
    },
    {
     "data": {
      "text/latex": [
       "$\\displaystyle \\left[ \\left[\\begin{matrix}1.0 & 2.25 & -0.75\\\\0.0 & -2.0 & 6.0\\\\0.0 & 1.5 & 5.5\\\\0.0 & -0.5 & -0.5\\end{matrix}\\right] \\right]$"
      ],
      "text/plain": [
       "<IPython.core.display.Math object>"
      ]
     },
     "metadata": {},
     "output_type": "display_data"
    },
    {
     "data": {
      "text/latex": [
       "$\\displaystyle \\text{Make pivot in row 2 a 1}$"
      ],
      "text/plain": [
       "<IPython.core.display.Math object>"
      ]
     },
     "metadata": {},
     "output_type": "display_data"
    },
    {
     "data": {
      "text/latex": [
       "$\\displaystyle \\left[ \\left[\\begin{matrix}1.0 & 2.25 & -0.75\\\\0.0 & 1.0 & -3.0\\\\0.0 & 1.5 & 5.5\\\\0.0 & -0.5 & -0.5\\end{matrix}\\right] \\right]$"
      ],
      "text/plain": [
       "<IPython.core.display.Math object>"
      ]
     },
     "metadata": {},
     "output_type": "display_data"
    },
    {
     "data": {
      "text/latex": [
       "$\\displaystyle \\text{Eliminate entry in row 3, col 2}$"
      ],
      "text/plain": [
       "<IPython.core.display.Math object>"
      ]
     },
     "metadata": {},
     "output_type": "display_data"
    },
    {
     "data": {
      "text/latex": [
       "$\\displaystyle \\left[ \\left[\\begin{matrix}1.0 & 2.25 & -0.75\\\\0.0 & 1.0 & -3.0\\\\0.0 & 0.0 & 10.0\\\\0.0 & -0.5 & -0.5\\end{matrix}\\right] \\right]$"
      ],
      "text/plain": [
       "<IPython.core.display.Math object>"
      ]
     },
     "metadata": {},
     "output_type": "display_data"
    },
    {
     "data": {
      "text/latex": [
       "$\\displaystyle \\text{Eliminate entry in row 4, col 2}$"
      ],
      "text/plain": [
       "<IPython.core.display.Math object>"
      ]
     },
     "metadata": {},
     "output_type": "display_data"
    },
    {
     "data": {
      "text/latex": [
       "$\\displaystyle \\left[ \\left[\\begin{matrix}1.0 & 2.25 & -0.75\\\\0.0 & 1.0 & -3.0\\\\0.0 & 0.0 & 10.0\\\\0.0 & 0.0 & -2.0\\end{matrix}\\right] \\right]$"
      ],
      "text/plain": [
       "<IPython.core.display.Math object>"
      ]
     },
     "metadata": {},
     "output_type": "display_data"
    },
    {
     "data": {
      "text/latex": [
       "$\\displaystyle \\text{Make pivot in row 3 a 1}$"
      ],
      "text/plain": [
       "<IPython.core.display.Math object>"
      ]
     },
     "metadata": {},
     "output_type": "display_data"
    },
    {
     "data": {
      "text/latex": [
       "$\\displaystyle \\left[ \\left[\\begin{matrix}1.0 & 2.25 & -0.75\\\\0.0 & 1.0 & -3.0\\\\0.0 & 0.0 & 1.0\\\\0.0 & 0.0 & -2.0\\end{matrix}\\right] \\right]$"
      ],
      "text/plain": [
       "<IPython.core.display.Math object>"
      ]
     },
     "metadata": {},
     "output_type": "display_data"
    },
    {
     "data": {
      "text/latex": [
       "$\\displaystyle \\text{Eliminate entry in row 4, col 3}$"
      ],
      "text/plain": [
       "<IPython.core.display.Math object>"
      ]
     },
     "metadata": {},
     "output_type": "display_data"
    },
    {
     "data": {
      "text/latex": [
       "$\\displaystyle \\left[ \\left[\\begin{matrix}1.0 & 2.25 & -0.75\\\\0.0 & 1.0 & -3.0\\\\0.0 & 0.0 & 1.0\\\\0.0 & 0.0 & 0.0\\end{matrix}\\right] \\right]$"
      ],
      "text/plain": [
       "<IPython.core.display.Math object>"
      ]
     },
     "metadata": {},
     "output_type": "display_data"
    },
    {
     "data": {
      "text/latex": [
       "$\\displaystyle \\text{Final Echelon Form}$"
      ],
      "text/plain": [
       "<IPython.core.display.Math object>"
      ]
     },
     "metadata": {},
     "output_type": "display_data"
    },
    {
     "data": {
      "text/latex": [
       "$\\displaystyle \\left[ \\left[\\begin{matrix}1.0 & 2.25 & -0.75\\\\0.0 & 1.0 & -3.0\\\\0.0 & 0.0 & 1.0\\\\0.0 & 0.0 & 0.0\\end{matrix}\\right] \\right]$"
      ],
      "text/plain": [
       "<IPython.core.display.Math object>"
      ]
     },
     "metadata": {},
     "output_type": "display_data"
    },
    {
     "data": {
      "text/plain": [
       "array([[ 1.  ,  2.25, -0.75],\n",
       "       [-0.  ,  1.  , -3.  ],\n",
       "       [ 0.  ,  0.  ,  1.  ],\n",
       "       [ 0.  ,  0.  ,  0.  ]])"
      ]
     },
     "execution_count": 3,
     "metadata": {},
     "output_type": "execute_result"
    }
   ],
   "source": [
    "import numpy as np\n",
    "from sympy import Matrix, latex\n",
    "from IPython.display import display, Math\n",
    "import time\n",
    "\n",
    "def show_matrix_latex(A, step_desc=\"\"):\n",
    "    \"\"\"행렬을 LaTeX 표 형식으로 출력 (KaTeX 오류 방지)\"\"\"\n",
    "    M = Matrix(A)\n",
    "    latex_str = r\"\\left[ \" + latex(M) + r\" \\right]\"\n",
    "    if step_desc:\n",
    "        display(Math(r\"\\text{\" + step_desc + r\"}\"))\n",
    "    display(Math(latex_str))\n",
    "    time.sleep(0.8)  # 단계별로 잠깐 대기\n",
    "\n",
    "def row_reduction_steps_latex(A):\n",
    "    \"\"\"Gaussian elimination을 LaTeX 표 형식으로 단계별 표시\"\"\"\n",
    "    A = A.astype(float)\n",
    "    rows, cols = A.shape\n",
    "    pivot_row = 0\n",
    "    \n",
    "    show_matrix_latex(A, \"Initial Matrix\")\n",
    "    \n",
    "    for pivot_col in range(cols):\n",
    "        # 1. 피벗 찾기\n",
    "        max_row = np.argmax(np.abs(A[pivot_row:rows, pivot_col])) + pivot_row\n",
    "        if A[max_row, pivot_col] == 0:\n",
    "            continue\n",
    "        \n",
    "        # 2. 행 교환\n",
    "        if max_row != pivot_row:\n",
    "            A[[pivot_row, max_row]] = A[[max_row, pivot_row]]\n",
    "            show_matrix_latex(A, f\"Swap row {pivot_row+1} with row {max_row+1}\")\n",
    "        \n",
    "        # 3. 피벗을 1로 만들기\n",
    "        pivot_val = A[pivot_row, pivot_col]\n",
    "        A[pivot_row] = A[pivot_row] / pivot_val\n",
    "        show_matrix_latex(A, f\"Make pivot in row {pivot_row+1} a 1\")\n",
    "        \n",
    "        # 4. 피벗 아래를 0으로 만들기\n",
    "        for r in range(pivot_row+1, rows):\n",
    "            if A[r, pivot_col] != 0:\n",
    "                factor = A[r, pivot_col]\n",
    "                A[r] = A[r] - factor * A[pivot_row]\n",
    "                show_matrix_latex(A, f\"Eliminate entry in row {r+1}, col {pivot_col+1}\")\n",
    "        \n",
    "        pivot_row += 1\n",
    "        if pivot_row == rows:\n",
    "            break\n",
    "    \n",
    "    show_matrix_latex(A, \"Final Echelon Form\")\n",
    "    return A\n",
    "\n",
    "# 예시 행렬\n",
    "A = np.array([\n",
    "    [2, 4, -2],\n",
    "    [4, 9, -3],\n",
    "    [-2, -3, 7],\n",
    "    [0, -2, 6]\n",
    "], dtype=float)\n",
    "\n",
    "row_reduction_steps_latex(A)\n",
    "\n",
    "\n"
   ]
  },
  {
   "cell_type": "code",
   "execution_count": 4,
   "id": "a99e2da9",
   "metadata": {},
   "outputs": [],
   "source": [
    "B = np.array([\n",
    "    [3, 3, 5],\n",
    "    [-4, 4, 0],\n",
    "    [5, 1, 5],\n",
    "    [6, 2, 1]\n",
    "], dtype=float)"
   ]
  },
  {
   "cell_type": "code",
   "execution_count": 5,
   "id": "6e09651f",
   "metadata": {},
   "outputs": [
    {
     "data": {
      "text/latex": [
       "$\\displaystyle \\text{Initial Matrix}$"
      ],
      "text/plain": [
       "<IPython.core.display.Math object>"
      ]
     },
     "metadata": {},
     "output_type": "display_data"
    },
    {
     "data": {
      "text/latex": [
       "$\\displaystyle \\left[ \\left[\\begin{matrix}3.0 & 3.0 & 5.0\\\\-4.0 & 4.0 & 0.0\\\\5.0 & 1.0 & 5.0\\\\6.0 & 2.0 & 1.0\\end{matrix}\\right] \\right]$"
      ],
      "text/plain": [
       "<IPython.core.display.Math object>"
      ]
     },
     "metadata": {},
     "output_type": "display_data"
    },
    {
     "data": {
      "text/latex": [
       "$\\displaystyle \\text{Swap row 1 with row 4}$"
      ],
      "text/plain": [
       "<IPython.core.display.Math object>"
      ]
     },
     "metadata": {},
     "output_type": "display_data"
    },
    {
     "data": {
      "text/latex": [
       "$\\displaystyle \\left[ \\left[\\begin{matrix}6.0 & 2.0 & 1.0\\\\-4.0 & 4.0 & 0.0\\\\5.0 & 1.0 & 5.0\\\\3.0 & 3.0 & 5.0\\end{matrix}\\right] \\right]$"
      ],
      "text/plain": [
       "<IPython.core.display.Math object>"
      ]
     },
     "metadata": {},
     "output_type": "display_data"
    },
    {
     "data": {
      "text/latex": [
       "$\\displaystyle \\text{Make pivot in row 1 a 1}$"
      ],
      "text/plain": [
       "<IPython.core.display.Math object>"
      ]
     },
     "metadata": {},
     "output_type": "display_data"
    },
    {
     "data": {
      "text/latex": [
       "$\\displaystyle \\left[ \\left[\\begin{matrix}1.0 & 0.333333333333333 & 0.166666666666667\\\\-4.0 & 4.0 & 0.0\\\\5.0 & 1.0 & 5.0\\\\3.0 & 3.0 & 5.0\\end{matrix}\\right] \\right]$"
      ],
      "text/plain": [
       "<IPython.core.display.Math object>"
      ]
     },
     "metadata": {},
     "output_type": "display_data"
    },
    {
     "data": {
      "text/latex": [
       "$\\displaystyle \\text{Eliminate entry in row 2, col 1}$"
      ],
      "text/plain": [
       "<IPython.core.display.Math object>"
      ]
     },
     "metadata": {},
     "output_type": "display_data"
    },
    {
     "data": {
      "text/latex": [
       "$\\displaystyle \\left[ \\left[\\begin{matrix}1.0 & 0.333333333333333 & 0.166666666666667\\\\0.0 & 5.33333333333333 & 0.666666666666667\\\\5.0 & 1.0 & 5.0\\\\3.0 & 3.0 & 5.0\\end{matrix}\\right] \\right]$"
      ],
      "text/plain": [
       "<IPython.core.display.Math object>"
      ]
     },
     "metadata": {},
     "output_type": "display_data"
    },
    {
     "data": {
      "text/latex": [
       "$\\displaystyle \\text{Eliminate entry in row 3, col 1}$"
      ],
      "text/plain": [
       "<IPython.core.display.Math object>"
      ]
     },
     "metadata": {},
     "output_type": "display_data"
    },
    {
     "data": {
      "text/latex": [
       "$\\displaystyle \\left[ \\left[\\begin{matrix}1.0 & 0.333333333333333 & 0.166666666666667\\\\0.0 & 5.33333333333333 & 0.666666666666667\\\\0.0 & -0.666666666666667 & 4.16666666666667\\\\3.0 & 3.0 & 5.0\\end{matrix}\\right] \\right]$"
      ],
      "text/plain": [
       "<IPython.core.display.Math object>"
      ]
     },
     "metadata": {},
     "output_type": "display_data"
    },
    {
     "data": {
      "text/latex": [
       "$\\displaystyle \\text{Eliminate entry in row 4, col 1}$"
      ],
      "text/plain": [
       "<IPython.core.display.Math object>"
      ]
     },
     "metadata": {},
     "output_type": "display_data"
    },
    {
     "data": {
      "text/latex": [
       "$\\displaystyle \\left[ \\left[\\begin{matrix}1.0 & 0.333333333333333 & 0.166666666666667\\\\0.0 & 5.33333333333333 & 0.666666666666667\\\\0.0 & -0.666666666666667 & 4.16666666666667\\\\0.0 & 2.0 & 4.5\\end{matrix}\\right] \\right]$"
      ],
      "text/plain": [
       "<IPython.core.display.Math object>"
      ]
     },
     "metadata": {},
     "output_type": "display_data"
    },
    {
     "data": {
      "text/latex": [
       "$\\displaystyle \\text{Make pivot in row 2 a 1}$"
      ],
      "text/plain": [
       "<IPython.core.display.Math object>"
      ]
     },
     "metadata": {},
     "output_type": "display_data"
    },
    {
     "data": {
      "text/latex": [
       "$\\displaystyle \\left[ \\left[\\begin{matrix}1.0 & 0.333333333333333 & 0.166666666666667\\\\0.0 & 1.0 & 0.125\\\\0.0 & -0.666666666666667 & 4.16666666666667\\\\0.0 & 2.0 & 4.5\\end{matrix}\\right] \\right]$"
      ],
      "text/plain": [
       "<IPython.core.display.Math object>"
      ]
     },
     "metadata": {},
     "output_type": "display_data"
    },
    {
     "data": {
      "text/latex": [
       "$\\displaystyle \\text{Eliminate entry in row 3, col 2}$"
      ],
      "text/plain": [
       "<IPython.core.display.Math object>"
      ]
     },
     "metadata": {},
     "output_type": "display_data"
    },
    {
     "data": {
      "text/latex": [
       "$\\displaystyle \\left[ \\left[\\begin{matrix}1.0 & 0.333333333333333 & 0.166666666666667\\\\0.0 & 1.0 & 0.125\\\\0.0 & 0.0 & 4.25\\\\0.0 & 2.0 & 4.5\\end{matrix}\\right] \\right]$"
      ],
      "text/plain": [
       "<IPython.core.display.Math object>"
      ]
     },
     "metadata": {},
     "output_type": "display_data"
    },
    {
     "data": {
      "text/latex": [
       "$\\displaystyle \\text{Eliminate entry in row 4, col 2}$"
      ],
      "text/plain": [
       "<IPython.core.display.Math object>"
      ]
     },
     "metadata": {},
     "output_type": "display_data"
    },
    {
     "data": {
      "text/latex": [
       "$\\displaystyle \\left[ \\left[\\begin{matrix}1.0 & 0.333333333333333 & 0.166666666666667\\\\0.0 & 1.0 & 0.125\\\\0.0 & 0.0 & 4.25\\\\0.0 & 0.0 & 4.25\\end{matrix}\\right] \\right]$"
      ],
      "text/plain": [
       "<IPython.core.display.Math object>"
      ]
     },
     "metadata": {},
     "output_type": "display_data"
    },
    {
     "data": {
      "text/latex": [
       "$\\displaystyle \\text{Make pivot in row 3 a 1}$"
      ],
      "text/plain": [
       "<IPython.core.display.Math object>"
      ]
     },
     "metadata": {},
     "output_type": "display_data"
    },
    {
     "data": {
      "text/latex": [
       "$\\displaystyle \\left[ \\left[\\begin{matrix}1.0 & 0.333333333333333 & 0.166666666666667\\\\0.0 & 1.0 & 0.125\\\\0.0 & 0.0 & 1.0\\\\0.0 & 0.0 & 4.25\\end{matrix}\\right] \\right]$"
      ],
      "text/plain": [
       "<IPython.core.display.Math object>"
      ]
     },
     "metadata": {},
     "output_type": "display_data"
    },
    {
     "data": {
      "text/latex": [
       "$\\displaystyle \\text{Eliminate entry in row 4, col 3}$"
      ],
      "text/plain": [
       "<IPython.core.display.Math object>"
      ]
     },
     "metadata": {},
     "output_type": "display_data"
    },
    {
     "data": {
      "text/latex": [
       "$\\displaystyle \\left[ \\left[\\begin{matrix}1.0 & 0.333333333333333 & 0.166666666666667\\\\0.0 & 1.0 & 0.125\\\\0.0 & 0.0 & 1.0\\\\0.0 & 0.0 & 0.0\\end{matrix}\\right] \\right]$"
      ],
      "text/plain": [
       "<IPython.core.display.Math object>"
      ]
     },
     "metadata": {},
     "output_type": "display_data"
    },
    {
     "data": {
      "text/latex": [
       "$\\displaystyle \\text{Final Echelon Form}$"
      ],
      "text/plain": [
       "<IPython.core.display.Math object>"
      ]
     },
     "metadata": {},
     "output_type": "display_data"
    },
    {
     "data": {
      "text/latex": [
       "$\\displaystyle \\left[ \\left[\\begin{matrix}1.0 & 0.333333333333333 & 0.166666666666667\\\\0.0 & 1.0 & 0.125\\\\0.0 & 0.0 & 1.0\\\\0.0 & 0.0 & 0.0\\end{matrix}\\right] \\right]$"
      ],
      "text/plain": [
       "<IPython.core.display.Math object>"
      ]
     },
     "metadata": {},
     "output_type": "display_data"
    },
    {
     "data": {
      "text/plain": [
       "array([[1.        , 0.33333333, 0.16666667],\n",
       "       [0.        , 1.        , 0.125     ],\n",
       "       [0.        , 0.        , 1.        ],\n",
       "       [0.        , 0.        , 0.        ]])"
      ]
     },
     "execution_count": 5,
     "metadata": {},
     "output_type": "execute_result"
    }
   ],
   "source": [
    "row_reduction_steps_latex(B)"
   ]
  },
  {
   "cell_type": "code",
   "execution_count": 2,
   "id": "42b9bce0",
   "metadata": {},
   "outputs": [
    {
     "name": "stdout",
     "output_type": "stream",
     "text": [
      "(Matrix([\n",
      "[1, 0, -0.745165781612625, -0.24179086331203],\n",
      "[0, 1,  0.416464625350309, -1.11430523389072]]), (0, 1))\n",
      "Matrix([[1, 0, -0.745165781612625, -0.241790863312030], [0, 1, 0.416464625350309, -1.11430523389072]])\n",
      "(0, 1)\n"
     ]
    }
   ],
   "source": [
    "import numpy as np\n",
    "import sympy as sym\n",
    "\n",
    "A=np.random.randn(2,4)\n",
    "print(sym.Matrix(A).rref()) # Reduced Row Echelon Form (RREF) of A\n",
    "print(sym.Matrix(A).rref()[0]) # RREF matrix\n",
    "print(sym.Matrix(A).rref()[1]) # Pivot columns of RREF matrix\n"
   ]
  },
  {
   "cell_type": "code",
   "execution_count": 3,
   "id": "0d02da34",
   "metadata": {},
   "outputs": [
    {
     "name": "stdout",
     "output_type": "stream",
     "text": [
      "(Matrix([\n",
      "[1, 0, 0,   -3],\n",
      "[0, 1, 0,    2],\n",
      "[0, 0, 1, -1/4]]), (0, 1, 2))\n"
     ]
    }
   ],
   "source": [
    "a=np.array([[4,8,4,3],[0,1,8,0],[2,7,0,8]])\n",
    "print(sym.Matrix(a).rref()) # Reduced Row Echelon Form (RREF) of a"
   ]
  },
  {
   "cell_type": "code",
   "execution_count": 4,
   "id": "e5eab42d",
   "metadata": {},
   "outputs": [
    {
     "name": "stdout",
     "output_type": "stream",
     "text": [
      "(Matrix([\n",
      "[1, 0, 0],\n",
      "[0, 1, 0],\n",
      "[0, 0, 1],\n",
      "[0, 0, 0]]), (0, 1, 2))\n"
     ]
    }
   ],
   "source": [
    "b=np.array([[4,0,2],[8,1,7],[4,8,0],[3,0,8]])\n",
    "print(sym.Matrix(b).rref()) # Reduced Row Echelon Form (RREF) of b"
   ]
  },
  {
   "cell_type": "code",
   "execution_count": 5,
   "id": "279354c6",
   "metadata": {},
   "outputs": [
    {
     "name": "stdout",
     "output_type": "stream",
     "text": [
      "(Matrix([\n",
      "[1, 0, 0, 0],\n",
      "[0, 1, 0, 1],\n",
      "[0, 0, 1, 0]]), (0, 1, 2))\n"
     ]
    }
   ],
   "source": [
    "c=np.array([[13,7,4,7],[5,3,2,3],[2,1,1,1]])\n",
    "print(sym.Matrix(c).rref()) # Reduced Row Echelon Form (RREF) of c"
   ]
  },
  {
   "cell_type": "code",
   "execution_count": 6,
   "id": "82fa8e49",
   "metadata": {},
   "outputs": [
    {
     "name": "stdout",
     "output_type": "stream",
     "text": [
      "(Matrix([\n",
      "[1, 0, 4],\n",
      "[0, 1, 5]]), (0, 1))\n"
     ]
    }
   ],
   "source": [
    "a1= np.array([[3, 10, 62], [-1,3,11]])\n",
    "print(sym.Matrix(a1).rref()) # Reduced Row Echelon Form (RREF) of a1"
   ]
  },
  {
   "cell_type": "code",
   "execution_count": 7,
   "id": "3807f60c",
   "metadata": {},
   "outputs": [
    {
     "name": "stdout",
     "output_type": "stream",
     "text": [
      "(Matrix([\n",
      "[1, 0, 2.5],\n",
      "[0, 1, 0.4]]), (0, 1))\n"
     ]
    }
   ],
   "source": [
    "b1= np.array([[3, 10, 11.5], [-1, 3,-1.3]])\n",
    "print(sym.Matrix(b1).rref()) # Reduced Row Echelon Form (RREF) of b1"
   ]
  },
  {
   "cell_type": "code",
   "execution_count": 8,
   "id": "643d68a7",
   "metadata": {},
   "outputs": [
    {
     "name": "stdout",
     "output_type": "stream",
     "text": [
      "(Matrix([\n",
      "[1, 0, 0, 1],\n",
      "[0, 1, 0, 1],\n",
      "[0, 0, 1, 1]]), (0, 1, 2))\n"
     ]
    }
   ],
   "source": [
    "c1= np.array([[4,-6,3,1], [1,2,5, 8], [1,3,-4,0]])\n",
    "print(sym.Matrix(c1).rref()) # Reduced Row Echelon Form (RREF) of c1"
   ]
  }
 ],
 "metadata": {
  "kernelspec": {
   "display_name": "Python 3",
   "language": "python",
   "name": "python3"
  },
  "language_info": {
   "codemirror_mode": {
    "name": "ipython",
    "version": 3
   },
   "file_extension": ".py",
   "mimetype": "text/x-python",
   "name": "python",
   "nbconvert_exporter": "python",
   "pygments_lexer": "ipython3",
   "version": "3.13.5"
  }
 },
 "nbformat": 4,
 "nbformat_minor": 5
}
