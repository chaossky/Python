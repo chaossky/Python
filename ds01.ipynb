import random

coins = random.choice(faces,k=20)

