{
 "cells": [
  {
   "cell_type": "code",
   "execution_count": 3,
   "id": "d8d4904d",
   "metadata": {},
   "outputs": [],
   "source": [
    "import numpy as np\n",
    "\n",
    "def calculate_matrix_properties(matrix):\n",
    "    \"\"\"\n",
    "    Calculate properties of a matrix, including mean, variance, standard deviation, max, min, sum along rows and columns.\n",
    "\n",
    "    Args:\n",
    "    matrix (list of lists): A 2D list representing the matrix.\n",
    "\n",
    "    Returns:\n",
    "    dict: A dictionary containing the calculated properties.  Returns None if the matrix is not valid (not 2x2 or not a list).\n",
    "    \"\"\"\n",
    "    if not isinstance(matrix, list) or len(matrix) != 3 or not all(isinstance(row, list) and len(row) == 3 for row in matrix):\n",
    "        raise ValueError(\"List must contain three lists, each with three values.\")\n",
    "\n",
    "    np_matrix = np.array(matrix)\n",
    "\n",
    "    calculations = {\n",
    "        'mean': [np.mean(np_matrix, axis=0).tolist(), np.mean(np_matrix, axis=1).tolist(), np.mean(np_matrix)],\n",
    "        'variance': [np.var(np_matrix, axis=0).tolist(), np.var(np_matrix, axis=1).tolist(), np.var(np_matrix)],\n",
    "        'standard deviation': [np.std(np_matrix, axis=0).tolist(), np.std(np_matrix, axis=1).tolist(), np.std(np_matrix)],\n",
    "        'max': [np.max(np_matrix, axis=0).tolist(), np.max(np_matrix, axis=1).tolist(), np.max(np_matrix)],\n",
    "        'min': [np.min(np_matrix, axis=0).tolist(), np.min(np_matrix, axis=1).tolist(), np.min(np_matrix)],\n",
    "        'sum': [np.sum(np_matrix, axis=0).tolist(), np.sum(np_matrix, axis=1).tolist(), np.sum(np_matrix)]\n",
    "    }\n",
    "\n",
    "    return calculations"
   ]
  },
  {
   "cell_type": "code",
   "execution_count": 4,
   "id": "2ff1a0aa",
   "metadata": {},
   "outputs": [],
   "source": [
    "def calculate_minors(matrix):\n",
    "    \"\"\"\n",
    "    Calculate the matrix of minors for a 3x3 matrix.\n",
    "    Each element in the matrix of minors is the determinant of the 2x2 matrix \n",
    "    formed by removing the row and column of the current element.\n",
    "    \n",
    "    Args:\n",
    "    matrix (list of lists): A 3x3 matrix\n",
    "    \n",
    "    Returns:\n",
    "    numpy.ndarray: The matrix of minors\n",
    "    \"\"\"\n",
    "    np_matrix = np.array(matrix)\n",
    "    minors = np.zeros((3, 3))\n",
    "    \n",
    "    for i in range(3):\n",
    "        for j in range(3):\n",
    "            # Delete i-th row and j-th column\n",
    "            minor = np.delete(np.delete(np_matrix, i, axis=0), j, axis=1)\n",
    "            # Calculate determinant of the resulting 2x2 matrix\n",
    "            minors[i,j] = np.linalg.det(minor)\n",
    "            \n",
    "    return minors"
   ]
  },
  {
   "cell_type": "code",
   "execution_count": 6,
   "id": "cfe4867d",
   "metadata": {},
   "outputs": [],
   "source": [
    "Sample_matrix = np.array([\n",
    "    [1, 2, 3],[4,5,6],[7,8,9]])"
   ]
  },
  {
   "cell_type": "code",
   "execution_count": 7,
   "id": "2a57cff7",
   "metadata": {},
   "outputs": [
    {
     "name": "stdout",
     "output_type": "stream",
     "text": [
      "[[ -3.  -6.  -3.]\n",
      " [ -6. -12.  -6.]\n",
      " [ -3.  -6.  -3.]]\n"
     ]
    }
   ],
   "source": [
    "print(calculate_minors(Sample_matrix))"
   ]
  },
  {
   "cell_type": "code",
   "execution_count": 8,
   "id": "3ee48bab",
   "metadata": {},
   "outputs": [
    {
     "data": {
      "text/plain": [
       "array([[-10., -15., -10.],\n",
       "       [  0.,  -2.,  -8.],\n",
       "       [ 10.,   9.,   6.]])"
      ]
     },
     "execution_count": 8,
     "metadata": {},
     "output_type": "execute_result"
    }
   ],
   "source": [
    "matrix1 = np.array([\n",
    "    [ 3,4,1],[0,2,3],[5,4,1]])\n",
    "m1= calculate_minors(matrix1);m1"
   ]
  },
  {
   "cell_type": "code",
   "execution_count": null,
   "id": "eda6f37a",
   "metadata": {},
   "outputs": [],
   "source": []
  },
  {
   "cell_type": "code",
   "execution_count": 9,
   "id": "8314f465",
   "metadata": {},
   "outputs": [],
   "source": [
    "def calculate_cofactors(matrix):\n",
    "    \"\"\"\n",
    "    Calculate the cofactor matrix for a 3x3 matrix.\n",
    "    The cofactor matrix is obtained by multiplying each element in the matrix of minors\n",
    "    by (-1)^(i+j).\n",
    "    \n",
    "    Args:\n",
    "    matrix (list of lists or numpy.ndarray): A 3x3 matrix\n",
    "    \n",
    "    Returns:\n",
    "    numpy.ndarray: The cofactor matrix\n",
    "    \"\"\"\n",
    "    minors = calculate_minors(matrix)\n",
    "    cofactors = np.zeros((3, 3))\n",
    "    \n",
    "    for i in range(3):\n",
    "        for j in range(3):\n",
    "            cofactors[i,j] = minors[i,j] * (-1)**(i+j)\n",
    "            \n",
    "    return cofactors"
   ]
  },
  {
   "cell_type": "code",
   "execution_count": 10,
   "id": "37db987c",
   "metadata": {},
   "outputs": [
    {
     "data": {
      "text/plain": [
       "array([[ -3.,   6.,  -3.],\n",
       "       [  6., -12.,   6.],\n",
       "       [ -3.,   6.,  -3.]])"
      ]
     },
     "execution_count": 10,
     "metadata": {},
     "output_type": "execute_result"
    }
   ],
   "source": [
    "c1= calculate_cofactors(Sample_matrix);c1"
   ]
  },
  {
   "cell_type": "code",
   "execution_count": 11,
   "id": "5e3bb8ae",
   "metadata": {},
   "outputs": [
    {
     "data": {
      "text/plain": [
       "array([[-10.,  15., -10.],\n",
       "       [ -0.,  -2.,   8.],\n",
       "       [ 10.,  -9.,   6.]])"
      ]
     },
     "execution_count": 11,
     "metadata": {},
     "output_type": "execute_result"
    }
   ],
   "source": [
    "c2 = calculate_cofactors(matrix1);c2"
   ]
  }
 ],
 "metadata": {
  "kernelspec": {
   "display_name": "Python 3",
   "language": "python",
   "name": "python3"
  },
  "language_info": {
   "codemirror_mode": {
    "name": "ipython",
    "version": 3
   },
   "file_extension": ".py",
   "mimetype": "text/x-python",
   "name": "python",
   "nbconvert_exporter": "python",
   "pygments_lexer": "ipython3",
   "version": "3.13.5"
  }
 },
 "nbformat": 4,
 "nbformat_minor": 5
}
