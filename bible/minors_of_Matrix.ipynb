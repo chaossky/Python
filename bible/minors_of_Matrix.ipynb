{
 "cells": [
  {
   "cell_type": "code",
   "execution_count": 1,
   "id": "d8d4904d",
   "metadata": {},
   "outputs": [],
   "source": [
    "import numpy as np\n",
    "\n",
    "def calculate_matrix_properties(matrix):\n",
    "    \"\"\"\n",
    "    Calculate properties of a matrix, including mean, variance, standard deviation, max, min, sum along rows and columns.\n",
    "\n",
    "    Args:\n",
    "    matrix (list of lists): A 2D list representing the matrix.\n",
    "\n",
    "    Returns:\n",
    "    dict: A dictionary containing the calculated properties.  Returns None if the matrix is not valid (not 2x2 or not a list).\n",
    "    \"\"\"\n",
    "    if not isinstance(matrix, list) or len(matrix) != 3 or not all(isinstance(row, list) and len(row) == 3 for row in matrix):\n",
    "        raise ValueError(\"List must contain three lists, each with three values.\")\n",
    "\n",
    "    np_matrix = np.array(matrix)\n",
    "\n",
    "    calculations = {\n",
    "        'mean': [np.mean(np_matrix, axis=0).tolist(), np.mean(np_matrix, axis=1).tolist(), np.mean(np_matrix)],\n",
    "        'variance': [np.var(np_matrix, axis=0).tolist(), np.var(np_matrix, axis=1).tolist(), np.var(np_matrix)],\n",
    "        'standard deviation': [np.std(np_matrix, axis=0).tolist(), np.std(np_matrix, axis=1).tolist(), np.std(np_matrix)],\n",
    "        'max': [np.max(np_matrix, axis=0).tolist(), np.max(np_matrix, axis=1).tolist(), np.max(np_matrix)],\n",
    "        'min': [np.min(np_matrix, axis=0).tolist(), np.min(np_matrix, axis=1).tolist(), np.min(np_matrix)],\n",
    "        'sum': [np.sum(np_matrix, axis=0).tolist(), np.sum(np_matrix, axis=1).tolist(), np.sum(np_matrix)]\n",
    "    }\n",
    "\n",
    "    return calculations"
   ]
  },
  {
   "cell_type": "code",
   "execution_count": 4,
   "id": "2ff1a0aa",
   "metadata": {},
   "outputs": [],
   "source": [
    "def calculate_minors(matrix):\n",
    "    \"\"\"\n",
    "    Calculate the matrix of minors for a 3x3 matrix.\n",
    "    Each element in the matrix of minors is the determinant of the 2x2 matrix \n",
    "    formed by removing the row and column of the current element.\n",
    "    \n",
    "    Args:\n",
    "    matrix (list of lists): A 3x3 matrix\n",
    "    \n",
    "    Returns:\n",
    "    numpy.ndarray: The matrix of minors\n",
    "    \"\"\"\n",
    "    np_matrix = np.array(matrix)\n",
    "    minors = np.zeros((3, 3))\n",
    "    \n",
    "    for i in range(3):\n",
    "        for j in range(3):\n",
    "            # Delete i-th row and j-th column\n",
    "            minor = np.delete(np.delete(np_matrix, i, axis=0), j, axis=1)\n",
    "            # Calculate determinant of the resulting 2x2 matrix\n",
    "            minors[i,j] = np.linalg.det(minor)\n",
    "            \n",
    "    return minors"
   ]
  },
  {
   "cell_type": "code",
   "execution_count": 3,
   "id": "cfe4867d",
   "metadata": {},
   "outputs": [],
   "source": [
    "Sample_matrix = np.array([\n",
    "    [1, 2, 3],[4,5,6],[7,8,9]])"
   ]
  },
  {
   "cell_type": "code",
   "execution_count": 5,
   "id": "2a57cff7",
   "metadata": {},
   "outputs": [
    {
     "name": "stdout",
     "output_type": "stream",
     "text": [
      "[[ -3.  -6.  -3.]\n",
      " [ -6. -12.  -6.]\n",
      " [ -3.  -6.  -3.]]\n"
     ]
    }
   ],
   "source": [
    "print(calculate_minors(Sample_matrix))"
   ]
  },
  {
   "cell_type": "code",
   "execution_count": 6,
   "id": "3ee48bab",
   "metadata": {},
   "outputs": [
    {
     "data": {
      "text/plain": [
       "array([[-10., -15., -10.],\n",
       "       [  0.,  -2.,  -8.],\n",
       "       [ 10.,   9.,   6.]])"
      ]
     },
     "execution_count": 6,
     "metadata": {},
     "output_type": "execute_result"
    }
   ],
   "source": [
    "matrix1 = np.array([\n",
    "    [ 3,4,1],[0,2,3],[5,4,1]])\n",
    "m1= calculate_minors(matrix1);m1"
   ]
  },
  {
   "cell_type": "code",
   "execution_count": null,
   "id": "eda6f37a",
   "metadata": {},
   "outputs": [],
   "source": []
  },
  {
   "cell_type": "code",
   "execution_count": 7,
   "id": "8314f465",
   "metadata": {},
   "outputs": [],
   "source": [
    "def calculate_cofactors(matrix):\n",
    "    \"\"\"\n",
    "    Calculate the cofactor matrix for a 3x3 matrix.\n",
    "    The cofactor matrix is obtained by multiplying each element in the matrix of minors\n",
    "    by (-1)^(i+j).\n",
    "    \n",
    "    Args:\n",
    "    matrix (list of lists or numpy.ndarray): A 3x3 matrix\n",
    "    \n",
    "    Returns:\n",
    "    numpy.ndarray: The cofactor matrix\n",
    "    \"\"\"\n",
    "    minors = calculate_minors(matrix)\n",
    "    cofactors = np.zeros((3, 3))\n",
    "    \n",
    "    for i in range(3):\n",
    "        for j in range(3):\n",
    "            cofactors[i,j] = minors[i,j] * (-1)**(i+j)\n",
    "            \n",
    "    return cofactors"
   ]
  },
  {
   "cell_type": "code",
   "execution_count": 8,
   "id": "37db987c",
   "metadata": {},
   "outputs": [
    {
     "data": {
      "text/plain": [
       "array([[ -3.,   6.,  -3.],\n",
       "       [  6., -12.,   6.],\n",
       "       [ -3.,   6.,  -3.]])"
      ]
     },
     "execution_count": 8,
     "metadata": {},
     "output_type": "execute_result"
    }
   ],
   "source": [
    "c1= calculate_cofactors(Sample_matrix);c1"
   ]
  },
  {
   "cell_type": "code",
   "execution_count": 9,
   "id": "5e3bb8ae",
   "metadata": {},
   "outputs": [
    {
     "data": {
      "text/plain": [
       "array([[-10.,  15., -10.],\n",
       "       [ -0.,  -2.,   8.],\n",
       "       [ 10.,  -9.,   6.]])"
      ]
     },
     "execution_count": 9,
     "metadata": {},
     "output_type": "execute_result"
    }
   ],
   "source": [
    "c2 = calculate_cofactors(matrix1);c2"
   ]
  },
  {
   "cell_type": "code",
   "execution_count": 10,
   "id": "ce8dbf35",
   "metadata": {},
   "outputs": [
    {
     "name": "stdout",
     "output_type": "stream",
     "text": [
      "Sample_matrix determinants:\n",
      "{'numpy_det': np.float64(0.0), 'scipy_det': np.float64(0.0), 'sympy_det': 0.0}\n",
      "\n",
      "matrix1 determinants:\n",
      "{'numpy_det': np.float64(19.99999999999999), 'scipy_det': np.float64(20.0), 'sympy_det': 20.0}\n"
     ]
    }
   ],
   "source": [
    "from scipy import linalg\n",
    "import sympy as sp\n",
    "\n",
    "def calculate_determinants(matrix):\n",
    "    \"\"\"\n",
    "    Calculate determinant using different methods (NumPy, SciPy, and SymPy)\n",
    "    \n",
    "    Args:\n",
    "    matrix: Input matrix (numpy array)\n",
    "    \n",
    "    Returns:\n",
    "    dict: Determinants calculated using different methods\n",
    "    \"\"\"\n",
    "    # NumPy determinant\n",
    "    np_det = np.linalg.det(matrix)\n",
    "    \n",
    "    # SciPy determinant\n",
    "    scipy_det = linalg.det(matrix)\n",
    "    \n",
    "    # SymPy determinant\n",
    "    sympy_matrix = sp.Matrix(matrix)\n",
    "    sympy_det = float(sympy_matrix.det())\n",
    "    \n",
    "    return {\n",
    "        'numpy_det': np_det,\n",
    "        'scipy_det': scipy_det,\n",
    "        'sympy_det': sympy_det\n",
    "    }\n",
    "\n",
    "# Test with both matrices\n",
    "print(\"Sample_matrix determinants:\")\n",
    "print(calculate_determinants(Sample_matrix))\n",
    "print(\"\\nmatrix1 determinants:\")\n",
    "print(calculate_determinants(matrix1))"
   ]
  },
  {
   "cell_type": "code",
   "execution_count": 11,
   "id": "0d3dd9a7",
   "metadata": {},
   "outputs": [
    {
     "data": {
      "text/plain": [
       "array([[-10.,   0.,  10.],\n",
       "       [-15.,  -2.,   9.],\n",
       "       [-10.,  -8.,   6.]])"
      ]
     },
     "execution_count": 11,
     "metadata": {},
     "output_type": "execute_result"
    }
   ],
   "source": [
    "m2=m1.T;m2\n"
   ]
  },
  {
   "cell_type": "code",
   "execution_count": 13,
   "id": "d294f738",
   "metadata": {},
   "outputs": [
    {
     "name": "stdout",
     "output_type": "stream",
     "text": [
      "Inverse of Sample_matrix:\n",
      "None\n",
      "\n",
      "Inverse of matrix1:\n",
      "[[-5.00000000e-01  6.66133815e-17  5.00000000e-01]\n",
      " [ 7.50000000e-01 -1.00000000e-01 -4.50000000e-01]\n",
      " [-5.00000000e-01  4.00000000e-01  3.00000000e-01]]\n"
     ]
    }
   ],
   "source": [
    "def calculate_inverse(matrix):\n",
    "    \"\"\"\n",
    "    Calculate the inverse of a 3x3 matrix using NumPy.\n",
    "    \n",
    "    Args:\n",
    "    matrix (numpy.ndarray): A 3x3 matrix\n",
    "    \n",
    "    Returns:\n",
    "    numpy.ndarray: The inverse of the matrix.  Returns None if the matrix is singular.\n",
    "    \"\"\"\n",
    "    try:\n",
    "        inverse = np.linalg.inv(matrix)\n",
    "        return inverse\n",
    "    except np.linalg.LinAlgError:\n",
    "        return None  # Matrix is singular (non-invertible)\n",
    "\n",
    "# Test with both matrices\n",
    "print(\"Inverse of Sample_matrix:\")\n",
    "print(calculate_inverse(Sample_matrix))\n",
    "print(\"\\nInverse of matrix1:\")\n",
    "print(calculate_inverse(matrix1))"
   ]
  },
  {
   "cell_type": "code",
   "execution_count": null,
   "id": "7cc5b5f8",
   "metadata": {},
   "outputs": [
    {
     "ename": "KeyError",
     "evalue": "0",
     "output_type": "error",
     "traceback": [
      "\u001b[31m---------------------------------------------------------------------------\u001b[39m",
      "\u001b[31mKeyError\u001b[39m                                  Traceback (most recent call last)",
      "\u001b[36mCell\u001b[39m\u001b[36m \u001b[39m\u001b[32mIn[23]\u001b[39m\u001b[32m, line 40\u001b[39m\n\u001b[32m     30\u001b[39m     \u001b[38;5;28;01mreturn\u001b[39;00m {\n\u001b[32m     31\u001b[39m         \u001b[33m'\u001b[39m\u001b[33mnumpy_inverse\u001b[39m\u001b[33m'\u001b[39m: np_inv,\n\u001b[32m     32\u001b[39m         \u001b[33m'\u001b[39m\u001b[33mscipy_inverse\u001b[39m\u001b[33m'\u001b[39m: scipy_inv,\n\u001b[32m     33\u001b[39m         \u001b[33m'\u001b[39m\u001b[33msympy_inverse\u001b[39m\u001b[33m'\u001b[39m: sympy_inv\n\u001b[32m     34\u001b[39m     }\n\u001b[32m     36\u001b[39m \u001b[38;5;66;03m# Test with both matrices\u001b[39;00m\n\u001b[32m     37\u001b[39m \u001b[38;5;66;03m#print(\"Sample_matrix inverses:\")\u001b[39;00m\n\u001b[32m     38\u001b[39m \u001b[38;5;66;03m#print(calculate_inverse_all_methods(Sample_matrix))\u001b[39;00m\n\u001b[32m     39\u001b[39m \u001b[38;5;66;03m#print(\"\\nmatrix1 inverses:\")\u001b[39;00m\n\u001b[32m---> \u001b[39m\u001b[32m40\u001b[39m r1=\u001b[43mcalculate_inverse_all_methods\u001b[49m\u001b[43m(\u001b[49m\u001b[43mmatrix1\u001b[49m\u001b[43m)\u001b[49m\u001b[43m[\u001b[49m\u001b[32;43m0\u001b[39;49m\u001b[43m]\u001b[49m\n\u001b[32m     41\u001b[39m r2=calculate_inverse_all_methods(matrix1)[\u001b[32m1\u001b[39m]\n\u001b[32m     42\u001b[39m r3=calculate_inverse_all_methods(matrix1)[\u001b[32m2\u001b[39m]\n",
      "\u001b[31mKeyError\u001b[39m: 0"
     ]
    }
   ],
   "source": []
  },
  {
   "cell_type": "code",
   "execution_count": 26,
   "id": "c558bdbe",
   "metadata": {},
   "outputs": [
    {
     "name": "stdout",
     "output_type": "stream",
     "text": [
      "Determinant of AA: 3.0000000000000004\n",
      "Inverse of AA: [[ 1.33333333 -0.33333333]\n",
      " [-0.33333333  0.33333333]]\n"
     ]
    }
   ],
   "source": [
    "AA=np.array([[1,1],[1,4]])\n",
    "det_A= np.linalg.det(AA);det_A\n",
    "print(\"Determinant of AA:\", det_A)\n",
    "inv_AA = np.linalg.inv(AA)\n",
    "print(\"Inverse of AA:\", inv_AA)\n",
    "\n"
   ]
  },
  {
   "cell_type": "code",
   "execution_count": 32,
   "id": "dc0f265d",
   "metadata": {},
   "outputs": [
    {
     "name": "stdout",
     "output_type": "stream",
     "text": [
      "Minors of BB:\n",
      "[[-8. -1.  6.]\n",
      " [-6. -2.  2.]\n",
      " [ 2. -6. -4.]]\n",
      "Cofactors of BB:\n",
      "[[-8.  1.  6.]\n",
      " [ 6. -2. -2.]\n",
      " [ 2.  6. -4.]]\n",
      "Determinant of BB: 9.999999999999998\n",
      "Adjugated BB:\n",
      "[[-8.  6.  2.]\n",
      " [ 1. -2.  6.]\n",
      " [ 6. -2. -4.]]\n",
      "Inverse of BB:\n",
      "[[-0.8  0.6  0.2]\n",
      " [ 0.1 -0.2  0.6]\n",
      " [ 0.6 -0.2 -0.4]]\n",
      "9.999999999999998 [[-8.  6.  2.]\n",
      " [ 1. -2.  6.]\n",
      " [ 6. -2. -4.]]\n"
     ]
    }
   ],
   "source": [
    "BB=np.array([[2,2,4],[4,2,5],[1,2,1]])\n",
    "minors_BB = calculate_minors(BB)\n",
    "print(\"Minors of BB:\")\n",
    "print(minors_BB)\n",
    "cofactors_BB = calculate_cofactors(BB)\n",
    "print(\"Cofactors of BB:\")\n",
    "print(cofactors_BB)\n",
    "det__BB = np.linalg.det(BB)\n",
    "print(\"Determinant of BB:\", det__BB)\n",
    "adjugated_BB = cofactors_BB.T\n",
    "print(\"Adjugated BB:\")\n",
    "print(adjugated_BB)\n",
    "print(\"Inverse of BB:\")\n",
    "print(np.linalg.inv(BB))\n",
    "print(det__BB , adjugated_BB)\n"
   ]
  },
  {
   "cell_type": "code",
   "execution_count": 35,
   "id": "507d6a39",
   "metadata": {},
   "outputs": [
    {
     "name": "stdout",
     "output_type": "stream",
     "text": [
      "Minors of CC:\n",
      "[[-45. -15.  30.]\n",
      " [-15.  -5.  10.]\n",
      " [ 30.  10. -20.]]\n",
      "Cofactors of CC:\n",
      "[[-45.  15.  30.]\n",
      " [ 15.  -5. -10.]\n",
      " [ 30. -10. -20.]]\n",
      "Determinant of CC: 0.0\n",
      "Adjugated CC:\n",
      "[[-45.  15.  30.]\n",
      " [ 15.  -5. -10.]\n",
      " [ 30. -10. -20.]]\n",
      "Inverse of CC:\n",
      "Matrix is singular, cannot compute inverse.\n"
     ]
    }
   ],
   "source": [
    "CC=np.array([[1,-5,4],[-1,-15,6],[2,0,3]])\n",
    "minors_CC = calculate_minors(CC)\n",
    "print(\"Minors of CC:\")\n",
    "print(minors_CC)\n",
    "cofactors_CC = calculate_cofactors(CC)\n",
    "print(\"Cofactors of CC:\")\n",
    "print(cofactors_CC)\n",
    "det__CC = np.linalg.det(CC)\n",
    "print(\"Determinant of CC:\", det__CC)\n",
    "adjugated_CC = cofactors_CC.T\n",
    "print(\"Adjugated CC:\")\n",
    "print(adjugated_CC)\n",
    "print(\"Inverse of CC:\")\n",
    "if det__CC != 0:\n",
    "    print(np.linalg.inv(CC))\n",
    "else:\n",
    "    print(\"Matrix is singular, cannot compute inverse.\")\n"
   ]
  },
  {
   "cell_type": "code",
   "execution_count": 36,
   "id": "7c14d557",
   "metadata": {},
   "outputs": [
    {
     "name": "stdout",
     "output_type": "stream",
     "text": [
      "Random 3x3 Matrix AAA:\n",
      "[[ 0.04106519 -0.73376966 -0.98488815]\n",
      " [-0.49374025  2.16500388 -0.2472837 ]\n",
      " [-0.58022931  0.8931191  -2.45808674]]\n",
      "Inverse of AAA:\n",
      "[[ 22.45929075  11.81451763 -10.18736501]\n",
      " [  4.71197436   2.96058525  -2.18579437]\n",
      " [ -3.58945204  -1.71311049   1.20371386]]\n"
     ]
    }
   ],
   "source": [
    "import numpy as np\n",
    "\n",
    "AAA=np.random.randn(3, 3)\n",
    "AAA_i=np.linalg.inv(AAA)\n",
    "print(\"Random 3x3 Matrix AAA:\")\n",
    "print(AAA)\n",
    "print(\"Inverse of AAA:\")\n",
    "print(AAA_i)\n",
    "\n"
   ]
  },
  {
   "cell_type": "code",
   "execution_count": null,
   "id": "e4de82a6",
   "metadata": {},
   "outputs": [],
   "source": []
  },
  {
   "cell_type": "code",
   "execution_count": null,
   "id": "1aee0226",
   "metadata": {},
   "outputs": [],
   "source": []
  },
  {
   "cell_type": "code",
   "execution_count": null,
   "id": "1ef50a05",
   "metadata": {},
   "outputs": [],
   "source": []
  }
 ],
 "metadata": {
  "kernelspec": {
   "display_name": "Python 3",
   "language": "python",
   "name": "python3"
  },
  "language_info": {
   "codemirror_mode": {
    "name": "ipython",
    "version": 3
   },
   "file_extension": ".py",
   "mimetype": "text/x-python",
   "name": "python",
   "nbconvert_exporter": "python",
   "pygments_lexer": "ipython3",
   "version": "3.13.5"
  }
 },
 "nbformat": 4,
 "nbformat_minor": 5
}
