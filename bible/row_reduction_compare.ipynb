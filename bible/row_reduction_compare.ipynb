{
 "cells": [
  {
   "cell_type": "code",
   "execution_count": null,
   "id": "0c703b41",
   "metadata": {},
   "outputs": [
    {
     "name": "stdout",
     "output_type": "stream",
     "text": [
      "[[-1.24435103 -0.43459854 -0.75157706]\n",
      " [-1.78004699 -1.29851304 -0.92647731]\n",
      " [ 1.04491858 -0.83572365  0.35647838]]\n",
      "Rref-method:\n",
      "Matrix([[2.72862960077050, -1.72701647447651, 1.26440719155031], [0.735647026410357, -0.753748992947466, -0.407979626645984], [-6.27358714516836, 3.29519496020419, -1.85750619198389]])\n",
      "Inverse of A:\n",
      "[[ 2.7286296  -1.72701647  1.26440719]\n",
      " [ 0.73564703 -0.75374899 -0.40797963]\n",
      " [-6.27358715  3.29519496 -1.85750619]]\n",
      "Difference between RREF and Inverse:\n",
      "Matrix([[0, -4.44089209850063e-16, 0], [2.22044604925031e-16, -1.11022302462516e-16, -5.55111512312578e-17], [-2.66453525910038e-15, 8.88178419700125e-16, -2.22044604925031e-16]])\n"
     ]
    }
   ],
   "source": [
    "import numpy as np\n",
    "import sympy as sym\n",
    "\n",
    "A=np.random.randn(3,3   )\n",
    "print(A)\n",
    "Acat=np.concatenate((A, np.eye(3,3)), axis=1)\n",
    "#print(Acat)\n",
    "Ar=sym.Matrix(Acat).rref()[0]\n",
    "#print(Ar)\n",
    "Ar=Ar[:, 3:]  # Extract the original matrix part\n",
    "print(\"Rref-method:\")\n",
    "print(Ar)\n",
    "print(\"Inverse of A:\")\n",
    "Ai=np.linalg.inv(A)\n",
    "print(Ai)\n",
    "\n",
    "print(\"Difference between RREF and Inverse:\")\n",
    "print(Ar-Ai)\n",
    "\n"
   ]
  }
 ],
 "metadata": {
  "kernelspec": {
   "display_name": "Python 3",
   "language": "python",
   "name": "python3"
  },
  "language_info": {
   "codemirror_mode": {
    "name": "ipython",
    "version": 3
   },
   "file_extension": ".py",
   "mimetype": "text/x-python",
   "name": "python",
   "nbconvert_exporter": "python",
   "pygments_lexer": "ipython3",
   "version": "3.13.5"
  }
 },
 "nbformat": 4,
 "nbformat_minor": 5
}
