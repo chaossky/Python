{
 "cells": [
  {
   "cell_type": "code",
   "execution_count": 1,
   "id": "08607c71",
   "metadata": {},
   "outputs": [],
   "source": [
    "import numpy as np\n",
    "\n",
    "def augment_and_rref(matrix):\n",
    "    # Convert input to numpy array if it isn't already\n",
    "    matrix = np.array(matrix, dtype=float)\n",
    "    rows, cols = matrix.shape\n",
    "    \n",
    "    # Create identity matrix of same height\n",
    "    identity = np.eye(rows)\n",
    "    \n",
    "    # Augment the original matrix with identity matrix\n",
    "    augmented = np.hstack((matrix, identity))\n",
    "    \n",
    "    # print(\"Augmented Matrix:\")\n",
    "    # print(augmented)    \n",
    "    \n",
    "    # Gaussian elimination with full pivoting\n",
    "    for i in range(rows):\n",
    "        # Find pivot\n",
    "        pivot = augmented[i][i]\n",
    "        if pivot == 0:\n",
    "            # Find non-zero pivot\n",
    "            for j in range(i + 1, rows):\n",
    "                if augmented[j][i] != 0:\n",
    "                    # Swap rows\n",
    "                    augmented[i], augmented[j] = augmented[j].copy(), augmented[i].copy()\n",
    "                    pivot = augmented[i][i]\n",
    "                    break\n",
    "                    \n",
    "        # Make pivot 1\n",
    "        augmented[i] = augmented[i] / pivot\n",
    "        \n",
    "        # Make other elements in column 0\n",
    "        for j in range(rows):\n",
    "            if i != j:\n",
    "                augmented[j] = augmented[j] - augmented[i] * augmented[j][i]\n",
    "    \n",
    "    inverse_matrix = augmented[:, cols:]  # Extract the inverse matrix from the augmented matrix\n",
    "    return inverse_matrix.round(10)  # Return the reduced row echelon form\n",
    "\n"
   ]
  },
  {
   "cell_type": "code",
   "execution_count": 5,
   "id": "6dcb6122",
   "metadata": {},
   "outputs": [
    {
     "name": "stdout",
     "output_type": "stream",
     "text": [
      "Inverse Matrix:\n",
      "[[-2.   1. ]\n",
      " [ 1.5 -0.5]]\n"
     ]
    }
   ],
   "source": [
    "# Example usage:\n",
    "A = np.array([[1, 2], [3, 4]])\n",
    "result = augment_and_rref(A)\n",
    "print(\"Inverse Matrix:\")\n",
    "print(result)\n"
   ]
  },
  {
   "cell_type": "code",
   "execution_count": 7,
   "id": "b47314a4",
   "metadata": {},
   "outputs": [
    {
     "name": "stdout",
     "output_type": "stream",
     "text": [
      "Inverse Matrix:\n",
      "[[-0.5   0.    0.5 ]\n",
      " [ 0.75 -0.1  -0.45]\n",
      " [-0.5   0.4   0.3 ]]\n"
     ]
    }
   ],
   "source": [
    "bb=np.array([[3,4,1], [0,2,3], [5,4,1]])\n",
    "result = augment_and_rref(bb)\n",
    "print(\"Inverse Matrix:\")  \n",
    "print(result)\n"
   ]
  },
  {
   "cell_type": "code",
   "execution_count": 8,
   "id": "19a9ade7",
   "metadata": {},
   "outputs": [
    {
     "name": "stdout",
     "output_type": "stream",
     "text": [
      "Inverse Matrix:\n",
      "[[ 1.33333333 -0.33333333]\n",
      " [-0.33333333  0.33333333]]\n"
     ]
    }
   ],
   "source": [
    "rr=np.array([[1,1],[1,4]])\n",
    "result = augment_and_rref(rr)\n",
    "print(\"Inverse Matrix:\")  \n",
    "print(result)"
   ]
  },
  {
   "cell_type": "code",
   "execution_count": 10,
   "id": "61f0e096",
   "metadata": {},
   "outputs": [
    {
     "name": "stdout",
     "output_type": "stream",
     "text": [
      "inverse Matrix:\n",
      "[[-0.8  0.6  0.2]\n",
      " [ 0.1 -0.2  0.6]\n",
      " [ 0.6 -0.2 -0.4]]\n"
     ]
    }
   ],
   "source": [
    "cc=np.array([[2,2,4], [4,2,5], [1,2,1]])\n",
    "result = augment_and_rref(cc)\n",
    "print(\"inverse Matrix:\")  \n",
    "print(result)\n"
   ]
  },
  {
   "cell_type": "code",
   "execution_count": 11,
   "id": "a33d93ce",
   "metadata": {},
   "outputs": [
    {
     "name": "stdout",
     "output_type": "stream",
     "text": [
      "Inverse Matrix:\n",
      "[[-0.72727273 -0.63636364]\n",
      " [-0.27272727 -0.36363636]]\n"
     ]
    }
   ],
   "source": [
    "aa=np.array([[-4,7],[3,-8]])\n",
    "result = augment_and_rref(aa)\n",
    "print(\"Inverse Matrix:\")\n",
    "print(result)"
   ]
  },
  {
   "cell_type": "code",
   "execution_count": 14,
   "id": "57677a00",
   "metadata": {},
   "outputs": [
    {
     "name": "stdout",
     "output_type": "stream",
     "text": [
      "Determinant of bb: 0.0\n",
      "Inverse Matrix:\n",
      "[[ inf  nan -inf]\n",
      " [-inf  nan  inf]\n",
      " [-inf  nan  inf]]\n"
     ]
    },
    {
     "name": "stderr",
     "output_type": "stream",
     "text": [
      "C:\\Users\\chaos\\AppData\\Local\\Temp\\ipykernel_1196\\1067809523.py:31: RuntimeWarning: divide by zero encountered in divide\n",
      "  augmented[i] = augmented[i] / pivot\n",
      "C:\\Users\\chaos\\AppData\\Local\\Temp\\ipykernel_1196\\1067809523.py:31: RuntimeWarning: invalid value encountered in divide\n",
      "  augmented[i] = augmented[i] / pivot\n"
     ]
    }
   ],
   "source": [
    "bb=np.array([[1,0,2], [1,2,1], [1,0,2]])\n",
    "det_bb = np.linalg.det(bb)\n",
    "\n",
    "print(\"Determinant of bb:\", det_bb)\n",
    "\n",
    "\n",
    "result = augment_and_rref(bb)\n",
    "print(\"Inverse Matrix:\")\n",
    "print(result)"
   ]
  },
  {
   "cell_type": "code",
   "execution_count": 15,
   "id": "4ec31f80",
   "metadata": {},
   "outputs": [
    {
     "name": "stdout",
     "output_type": "stream",
     "text": [
      "Determinant of cc: 0.0\n",
      "Inverse Matrix:\n",
      "[[-inf  inf  inf -inf]\n",
      " [ inf -inf -inf  inf]\n",
      " [-inf  inf  inf -inf]\n",
      " [ inf -inf -inf  inf]]\n"
     ]
    },
    {
     "name": "stderr",
     "output_type": "stream",
     "text": [
      "C:\\Users\\chaos\\AppData\\Local\\Temp\\ipykernel_1196\\1067809523.py:31: RuntimeWarning: divide by zero encountered in divide\n",
      "  augmented[i] = augmented[i] / pivot\n",
      "C:\\Users\\chaos\\AppData\\Local\\Temp\\ipykernel_1196\\1067809523.py:31: RuntimeWarning: invalid value encountered in divide\n",
      "  augmented[i] = augmented[i] / pivot\n"
     ]
    }
   ],
   "source": [
    "cc=np.array([[1,0,2,5],[3,0,0,1],[0,4,5,0],[5,8,2,-17]])\n",
    "result = augment_and_rref(cc)\n",
    "det_cc = np.linalg.det(cc)\n",
    "print(\"Determinant of cc:\", det_cc)\n",
    "print(\"Inverse Matrix:\")\n",
    "print(result)\n"
   ]
  },
  {
   "cell_type": "code",
   "execution_count": 16,
   "id": "ca67bb0d",
   "metadata": {},
   "outputs": [
    {
     "name": "stdout",
     "output_type": "stream",
     "text": [
      "Inverse Matrix:\n",
      "[[-0.07142857  0.35714286 -0.42857143  0.57142857]\n",
      " [ 0.         -0.          4.         -5.        ]\n",
      " [ 0.          0.         -3.          4.        ]\n",
      " [ 0.21428571 -0.07142857  1.28571429 -1.71428571]]\n"
     ]
    }
   ],
   "source": [
    "dd=np.array([[1,0,2,5],[3,0,0,1],[0,4,5,0],[0,3,4,0]])\n",
    "result = augment_and_rref(dd)\n",
    "print(\"Inverse Matrix:\")\n",
    "print(result)"
   ]
  }
 ],
 "metadata": {
  "kernelspec": {
   "display_name": "Python 3",
   "language": "python",
   "name": "python3"
  },
  "language_info": {
   "codemirror_mode": {
    "name": "ipython",
    "version": 3
   },
   "file_extension": ".py",
   "mimetype": "text/x-python",
   "name": "python",
   "nbconvert_exporter": "python",
   "pygments_lexer": "ipython3",
   "version": "3.13.5"
  }
 },
 "nbformat": 4,
 "nbformat_minor": 5
}
