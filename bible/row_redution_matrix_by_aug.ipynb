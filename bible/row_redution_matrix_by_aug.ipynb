{
 "cells": [
  {
   "cell_type": "code",
   "execution_count": null,
   "id": "08607c71",
   "metadata": {
    "vscode": {
     "languageId": "ini"
    }
   },
   "outputs": [],
   "source": [
    "import numpy as np\n",
    "\n",
    "def augment_and_rref(matrix):\n",
    "    # Convert input to numpy array if it isn't already\n",
    "    matrix = np.array(matrix, dtype=float)\n",
    "    rows, cols = matrix.shape\n",
    "    \n",
    "    # Create identity matrix of same height\n",
    "    identity = np.eye(rows)\n",
    "    \n",
    "    # Augment the original matrix with identity matrix\n",
    "    augmented = np.hstack((matrix, identity))\n",
    "    \n",
    "    # print(\"Augmented Matrix:\")\n",
    "    # print(augmented)    \n",
    "    \n",
    "    # Gaussian elimination with full pivoting\n",
    "    for i in range(rows):\n",
    "        # Find pivot\n",
    "        pivot = augmented[i][i]\n",
    "        if pivot == 0:\n",
    "            # Find non-zero pivot\n",
    "            for j in range(i + 1, rows):\n",
    "                if augmented[j][i] != 0:\n",
    "                    # Swap rows\n",
    "                    augmented[i], augmented[j] = augmented[j].copy(), augmented[i].copy()\n",
    "                    pivot = augmented[i][i]\n",
    "                    break\n",
    "                    \n",
    "        # Make pivot 1\n",
    "        augmented[i] = augmented[i] / pivot\n",
    "        \n",
    "        # Make other elements in column 0\n",
    "        for j in range(rows):\n",
    "            if i != j:\n",
    "                augmented[j] = augmented[j] - augmented[i] * augmented[j][i]\n",
    "    \n",
    "    inverse_matrix = augmented[:, cols:]  # Extract the inverse matrix from the augmented matrix\n",
    "    return inverse_matrix.round(10)  # Return the reduced row echelon form\n",
    "\n"
   ]
  },
  {
   "cell_type": "code",
   "execution_count": 46,
   "id": "6dcb6122",
   "metadata": {},
   "outputs": [
    {
     "name": "stdout",
     "output_type": "stream",
     "text": [
      "Reduced Row Echelon Form:\n",
      "[[-2.   1. ]\n",
      " [ 1.5 -0.5]]\n"
     ]
    }
   ],
   "source": [
    "# Example usage:\n",
    "A = np.array([[1, 2], [3, 4]])\n",
    "result = augment_and_rref(A)\n",
    "print(\"Reduced Row Echelon Form:\")\n",
    "print(result)\n"
   ]
  },
  {
   "cell_type": "code",
   "execution_count": 44,
   "id": "cf374965",
   "metadata": {},
   "outputs": [
    {
     "name": "stdout",
     "output_type": "stream",
     "text": [
      "Reduced Row Echelon Form:\n",
      "[[-2.   1. ]\n",
      " [ 1.5 -0.5]]\n"
     ]
    }
   ],
   "source": [
    "print(\"Reduced Row Echelon Form:\")\n",
    "print(result)"
   ]
  },
  {
   "cell_type": "code",
   "execution_count": 47,
   "id": "b47314a4",
   "metadata": {},
   "outputs": [
    {
     "name": "stdout",
     "output_type": "stream",
     "text": [
      "Reduced Row Echelon Form:\n",
      "[[-0.5   0.    0.5 ]\n",
      " [ 0.75 -0.1  -0.45]\n",
      " [-0.5   0.4   0.3 ]]\n"
     ]
    }
   ],
   "source": [
    "\n",
    "bb=np.array([[3,4,1], [0,2,3], [5,4,1]])\n",
    "result = augment_and_rref(bb)\n",
    "print(\"Reduced Row Echelon Form:\")  \n",
    "print(result)\n"
   ]
  },
  {
   "cell_type": "code",
   "execution_count": 49,
   "id": "19a9ade7",
   "metadata": {},
   "outputs": [
    {
     "name": "stdout",
     "output_type": "stream",
     "text": [
      "Reduced Row Echelon Form:\n",
      "[[ 1.33333333 -0.33333333]\n",
      " [-0.33333333  0.33333333]]\n"
     ]
    }
   ],
   "source": [
    "rr=np.array([[1,1],[1,4]])\n",
    "result = augment_and_rref(rr)\n",
    "print(\"Reduced Row Echelon Form:\")  \n",
    "print(result)"
   ]
  },
  {
   "cell_type": "code",
   "execution_count": 50,
   "id": "61f0e096",
   "metadata": {},
   "outputs": [
    {
     "name": "stdout",
     "output_type": "stream",
     "text": [
      "Reduced Row Echelon Form:\n",
      "[[-0.8  0.6  0.2]\n",
      " [ 0.1 -0.2  0.6]\n",
      " [ 0.6 -0.2 -0.4]]\n"
     ]
    }
   ],
   "source": [
    "cc=np.array([[2,2,4], [4,2,5], [1,2,1]])\n",
    "result = augment_and_rref(cc)\n",
    "print(\"Reduced Row Echelon Form:\")  \n",
    "print(result)\n"
   ]
  }
 ],
 "metadata": {
  "kernelspec": {
   "display_name": "Python 3",
   "language": "python",
   "name": "python3"
  },
  "language_info": {
   "codemirror_mode": {
    "name": "ipython",
    "version": 3
   },
   "file_extension": ".py",
   "mimetype": "text/x-python",
   "name": "python",
   "nbconvert_exporter": "python",
   "pygments_lexer": "ipython3",
   "version": "3.13.5"
  }
 },
 "nbformat": 4,
 "nbformat_minor": 5
}
