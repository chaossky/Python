{
 "cells": [
  {
   "cell_type": "markdown",
   "id": "4dcb30fe",
   "metadata": {},
   "source": [
    "# 파이썬 리스트"
   ]
  },
  {
   "cell_type": "code",
   "execution_count": null,
   "id": "4357bf81",
   "metadata": {},
   "outputs": [
    {
     "name": "stdout",
     "output_type": "stream",
     "text": [
      "[1, '2', 'String', True, 2.3]\n",
      "<class 'list'>\n",
      "[1, '2', 'String', True]\n",
      "[2.3, True, 'String', '2', 1]\n",
      "[5, 6, 7, 8, 9]\n",
      "[-10, -8, -6, -4, -2, 0, 2, 4, 6, 8]\n",
      "[10, 9, 8, 7, 6, 5, 4, 3, 2, 1]\n"
     ]
    }
   ],
   "source": [
    "# 리스트\n",
    "person=[1,\"2\",\"String\",True,2.3]\n",
    "\n",
    "print(person)\n",
    "print(type(person))\n",
    "print(person[0:4:1])\n",
    "print(person[::-1])\n",
    "\n",
    "a=list(range(5,10))\n",
    "print(a)\n",
    "\n",
    "b=list(range(-10,10,2))\n",
    "print(b)\n",
    "\n",
    "c=list(range(10,0,-1))\n",
    "print(c)\n",
    "\n"
   ]
  },
  {
   "cell_type": "markdown",
   "id": "51e985b8",
   "metadata": {},
   "source": [
    "# 파이썬 튜플\n",
    "\n",
    "튜플은 읽기 전용 리스트\n",
    "변경, 추가, 삭제가 안된다.\n"
   ]
  },
  {
   "cell_type": "code",
   "execution_count": 17,
   "id": "10ae91e6",
   "metadata": {},
   "outputs": [
    {
     "name": "stdout",
     "output_type": "stream",
     "text": [
      "(3, 33, 44, 22)\n",
      "(2, 34, 442, 'rr')\n"
     ]
    },
    {
     "data": {
      "text/plain": [
       "(44,)"
      ]
     },
     "execution_count": 17,
     "metadata": {},
     "output_type": "execute_result"
    }
   ],
   "source": [
    "d=(3,33,44,22)\n",
    "print(d)\n",
    "\n",
    "e=2,34,442,\"rr\"\n",
    "print(e)\n",
    "\n",
    "(23)\n",
    "\n",
    "(33,)\n",
    "44,\n"
   ]
  },
  {
   "cell_type": "code",
   "execution_count": 21,
   "id": "cac68fb9",
   "metadata": {},
   "outputs": [
    {
     "name": "stdout",
     "output_type": "stream",
     "text": [
      "(0, 1, 2, 3, 4, 5, 6, 7, 8, 9)\n",
      "<class 'list'>\n",
      "[1, 2, 3]\n",
      "<class 'tuple'>\n",
      "(4, 5, 6)\n",
      "<class 'list'>\n",
      "[4, 5, 6]\n",
      "<class 'tuple'>\n",
      "(1, 2, 3)\n"
     ]
    }
   ],
   "source": [
    "aa=tuple(range(10))\n",
    "print(aa)\n",
    "\n",
    "bb=[1,2,3]\n",
    "cc=(4,5,6)\n",
    "\n",
    "print(type(bb))\n",
    "print(bb)\n",
    "print(type(cc))\n",
    "print(cc)\n",
    "\n",
    "\n",
    "dd=list(cc)\n",
    "ff=tuple(bb)\n",
    "print(type(dd))\n",
    "print(dd)\n",
    "print(type(ff))\n",
    "print(ff)"
   ]
  },
  {
   "cell_type": "code",
   "execution_count": 27,
   "id": "a551529a",
   "metadata": {},
   "outputs": [
    {
     "name": "stdout",
     "output_type": "stream",
     "text": [
      "['h', 'e', 'l', 'l', 'o']\n"
     ]
    }
   ],
   "source": [
    "h=list('hello')\n",
    "print(h)"
   ]
  },
  {
   "cell_type": "code",
   "execution_count": 29,
   "id": "fb80676e",
   "metadata": {},
   "outputs": [
    {
     "name": "stdout",
     "output_type": "stream",
     "text": [
      "1 2 3\n"
     ]
    }
   ],
   "source": [
    "a,b,c=[1,2,3]\n",
    "print(a,b,c)"
   ]
  },
  {
   "cell_type": "markdown",
   "id": "398c0163",
   "metadata": {},
   "source": [
    "리스트와 튜플의 요소를 변수 여러 개에 할당하는 것을 \n",
    "\n",
    "리스트 언패킹(list unpacking), \n",
    "\n",
    "튜플 언패킹(tuple unpacking)"
   ]
  },
  {
   "cell_type": "code",
   "execution_count": 31,
   "id": "71f43b18",
   "metadata": {},
   "outputs": [
    {
     "name": "stdout",
     "output_type": "stream",
     "text": [
      "1 2 3\n",
      "4 5 6\n"
     ]
    }
   ],
   "source": [
    "x = [1, 2, 3]\n",
    "a, b, c = x\n",
    "print(a, b, c)\n",
    "\n",
    "y = (4, 5, 6)\n",
    "d, e, f = y\n",
    "print(d, e, f)"
   ]
  },
  {
   "cell_type": "code",
   "execution_count": null,
   "id": "31e2bf95",
   "metadata": {},
   "outputs": [],
   "source": [
    "inp=input(\"두개의 숫자를 입력하세요.\")\n",
    "\n",
    "x = inp.split()\n",
    "a, b = x         # a, b = input().split()과 같음\n",
    "print(a, b)"
   ]
  },
  {
   "cell_type": "code",
   "execution_count": null,
   "id": "c4b3dcd9",
   "metadata": {
    "notebookRunGroups": {
     "groupValue": "1"
    }
   },
   "outputs": [],
   "source": [
    "example=input()\n",
    "dd"
   ]
  },
  {
   "cell_type": "code",
   "execution_count": null,
   "id": "dbd60912",
   "metadata": {},
   "outputs": [],
   "source": [
    "# 리스트 패킹(list packing)과 튜플 패킹(tuple packing)은 \n",
    "# 변수에 리스트 또는 튜플을 할당하는 과정\n",
    "a = [1, 2, 3]    # 리스트 패킹\n",
    "b = (1, 2, 3)    # 튜플 패킹\n",
    "c = 1, 2, 3      # 튜플 패킹"
   ]
  },
  {
   "cell_type": "code",
   "execution_count": 2,
   "id": "391d4ad8",
   "metadata": {},
   "outputs": [
    {
     "name": "stdout",
     "output_type": "stream",
     "text": [
      "[5, 3, 1, -1, -3, -5, -7, -9]\n"
     ]
    }
   ],
   "source": [
    "a=list(range(5,-10,-2))\n",
    "print(a)"
   ]
  },
  {
   "cell_type": "markdown",
   "id": "431261eb",
   "metadata": {},
   "source": [
    "### 시퀀스 자료형\n",
    "파이썬에서는 리스트, 튜플, range, 문자열처럼 값이 연속적으로 이어진 자료형"
   ]
  },
  {
   "cell_type": "code",
   "execution_count": 3,
   "id": "fb342e59",
   "metadata": {},
   "outputs": [
    {
     "name": "stdout",
     "output_type": "stream",
     "text": [
      "[0, 10, 20, 30, 40, 50, 60, 70, 80, 90]\n"
     ]
    }
   ],
   "source": [
    "# 시퀀스 객체 안에 특정 값이 있는지 확인하는 방법\n",
    "a=list(range(0,100,10))\n",
    "print(a)"
   ]
  },
  {
   "cell_type": "code",
   "execution_count": 4,
   "id": "196133e7",
   "metadata": {},
   "outputs": [
    {
     "data": {
      "text/plain": [
       "True"
      ]
     },
     "execution_count": 4,
     "metadata": {},
     "output_type": "execute_result"
    }
   ],
   "source": [
    "30 in a"
   ]
  },
  {
   "cell_type": "code",
   "execution_count": 5,
   "id": "93b4dbd7",
   "metadata": {},
   "outputs": [
    {
     "data": {
      "text/plain": [
       "False"
      ]
     },
     "execution_count": 5,
     "metadata": {},
     "output_type": "execute_result"
    }
   ],
   "source": [
    "100 in b"
   ]
  },
  {
   "cell_type": "code",
   "execution_count": 6,
   "id": "d166b293",
   "metadata": {},
   "outputs": [
    {
     "data": {
      "text/plain": [
       "True"
      ]
     },
     "execution_count": 6,
     "metadata": {},
     "output_type": "execute_result"
    }
   ],
   "source": [
    "43 in (38,76,43,82,19)"
   ]
  },
  {
   "cell_type": "code",
   "execution_count": 7,
   "id": "fcff45a9",
   "metadata": {},
   "outputs": [
    {
     "data": {
      "text/plain": [
       "True"
      ]
     },
     "execution_count": 7,
     "metadata": {},
     "output_type": "execute_result"
    }
   ],
   "source": [
    "1 in range(10)"
   ]
  },
  {
   "cell_type": "code",
   "execution_count": 8,
   "id": "96b3ef06",
   "metadata": {},
   "outputs": [
    {
     "data": {
      "text/plain": [
       "True"
      ]
     },
     "execution_count": 8,
     "metadata": {},
     "output_type": "execute_result"
    }
   ],
   "source": [
    "'P' in 'Hello, Python'"
   ]
  },
  {
   "cell_type": "markdown",
   "id": "be70ea1a",
   "metadata": {},
   "source": [
    "##### 시퀀스 객체 연결하기\n"
   ]
  },
  {
   "cell_type": "code",
   "execution_count": 9,
   "id": "e1bd98bb",
   "metadata": {},
   "outputs": [
    {
     "data": {
      "text/plain": [
       "[0, 10, 20, 30, 9, 8, 7, 6]"
      ]
     },
     "execution_count": 9,
     "metadata": {},
     "output_type": "execute_result"
    }
   ],
   "source": [
    "a = [0, 10, 20, 30]\n",
    "b = [9, 8, 7, 6]\n",
    "a + b"
   ]
  },
  {
   "cell_type": "markdown",
   "id": "d2f24475",
   "metadata": {},
   "source": [
    "시퀀스 자료형 중에서 range는 + 연산자로 객체를 연결할 수 없습니다.\n",
    "이때는 range를 리스트 또는 튜플로 만들어서 연결하면 됩니다."
   ]
  },
  {
   "cell_type": "code",
   "execution_count": 10,
   "id": "00fa427b",
   "metadata": {},
   "outputs": [
    {
     "ename": "TypeError",
     "evalue": "unsupported operand type(s) for +: 'range' and 'range'",
     "output_type": "error",
     "traceback": [
      "\u001b[31m---------------------------------------------------------------------------\u001b[39m",
      "\u001b[31mTypeError\u001b[39m                                 Traceback (most recent call last)",
      "\u001b[36mCell\u001b[39m\u001b[36m \u001b[39m\u001b[32mIn[10]\u001b[39m\u001b[32m, line 1\u001b[39m\n\u001b[32m----> \u001b[39m\u001b[32m1\u001b[39m \u001b[38;5;28;43mrange\u001b[39;49m\u001b[43m(\u001b[49m\u001b[32;43m0\u001b[39;49m\u001b[43m,\u001b[49m\u001b[43m \u001b[49m\u001b[32;43m10\u001b[39;49m\u001b[43m)\u001b[49m\u001b[43m \u001b[49m\u001b[43m+\u001b[49m\u001b[43m \u001b[49m\u001b[38;5;28;43mrange\u001b[39;49m\u001b[43m(\u001b[49m\u001b[32;43m10\u001b[39;49m\u001b[43m,\u001b[49m\u001b[43m \u001b[49m\u001b[32;43m20\u001b[39;49m\u001b[43m)\u001b[49m\n",
      "\u001b[31mTypeError\u001b[39m: unsupported operand type(s) for +: 'range' and 'range'"
     ]
    }
   ],
   "source": [
    "range(0, 10) + range(10, 20)"
   ]
  },
  {
   "cell_type": "code",
   "execution_count": 11,
   "id": "ff56a435",
   "metadata": {},
   "outputs": [
    {
     "data": {
      "text/plain": [
       "[0, 1, 2, 3, 4, 5, 6, 7, 8, 9, 10, 11, 12, 13, 14, 15, 16, 17, 18, 19]"
      ]
     },
     "execution_count": 11,
     "metadata": {},
     "output_type": "execute_result"
    }
   ],
   "source": [
    "list(range(0, 10)) + list(range(10, 20))"
   ]
  },
  {
   "cell_type": "code",
   "execution_count": 12,
   "id": "afcd67e9",
   "metadata": {},
   "outputs": [
    {
     "data": {
      "text/plain": [
       "(0, 1, 2, 3, 4, 5, 6, 7, 8, 9, 10, 11, 12, 13, 14, 15, 16, 17, 18, 19)"
      ]
     },
     "execution_count": 12,
     "metadata": {},
     "output_type": "execute_result"
    }
   ],
   "source": [
    "tuple(range(0, 10)) + tuple(range(10, 20))"
   ]
  },
  {
   "cell_type": "markdown",
   "id": "95adc52d",
   "metadata": {},
   "source": [
    "문자열은 + 연산자로 여러 문자열을 연결할 수 있습니다."
   ]
  },
  {
   "cell_type": "code",
   "execution_count": 13,
   "id": "d5661262",
   "metadata": {},
   "outputs": [
    {
     "data": {
      "text/plain": [
       "'Hello, world!'"
      ]
     },
     "execution_count": 13,
     "metadata": {},
     "output_type": "execute_result"
    }
   ],
   "source": [
    "'Hello, ' + 'world!'\n",
    "\n"
   ]
  },
  {
   "cell_type": "markdown",
   "id": "96ef2a94",
   "metadata": {},
   "source": [
    "문자열에 정수를 연결하려고 하면 에러가 발생합니다(정수를 문자열로 변환할 수 없어서 TypeError가 발생합니다). 이 문제를 해결하려면 str을 사용하여 숫자(정수, 실수)를 문자열로 변환하면 됩니다.\n",
    "\n",
    "'문자열' + str(정수)\n",
    "\n",
    "'문자열' + str(실수)"
   ]
  },
  {
   "cell_type": "code",
   "execution_count": 14,
   "id": "d868fb28",
   "metadata": {},
   "outputs": [
    {
     "data": {
      "text/plain": [
       "'Hello, 10'"
      ]
     },
     "execution_count": 14,
     "metadata": {},
     "output_type": "execute_result"
    }
   ],
   "source": [
    "'Hello, ' + str(10)  "
   ]
  },
  {
   "cell_type": "code",
   "execution_count": 15,
   "id": "89355f92",
   "metadata": {},
   "outputs": [
    {
     "data": {
      "text/plain": [
       "'Hello, 1.5'"
      ]
     },
     "execution_count": 15,
     "metadata": {},
     "output_type": "execute_result"
    }
   ],
   "source": [
    "'Hello, ' + str(1.5) "
   ]
  },
  {
   "cell_type": "markdown",
   "id": "30757496",
   "metadata": {},
   "source": [
    " 연산자는 시퀀스 객체를 특정 횟수만큼 반복"
   ]
  },
  {
   "cell_type": "code",
   "execution_count": 16,
   "id": "71a61edd",
   "metadata": {},
   "outputs": [
    {
     "data": {
      "text/plain": [
       "[0, 10, 20, 30, 0, 10, 20, 30, 0, 10, 20, 30]"
      ]
     },
     "execution_count": 16,
     "metadata": {},
     "output_type": "execute_result"
    }
   ],
   "source": [
    "[0, 10, 20, 30] * 3"
   ]
  },
  {
   "cell_type": "markdown",
   "id": "9ed15d46",
   "metadata": {},
   "source": [
    "range는 * 연산자를 사용하여 반복할 수 없습니다."
   ]
  },
  {
   "cell_type": "code",
   "execution_count": 17,
   "id": "61f2f3a9",
   "metadata": {},
   "outputs": [
    {
     "ename": "TypeError",
     "evalue": "unsupported operand type(s) for *: 'range' and 'int'",
     "output_type": "error",
     "traceback": [
      "\u001b[31m---------------------------------------------------------------------------\u001b[39m",
      "\u001b[31mTypeError\u001b[39m                                 Traceback (most recent call last)",
      "\u001b[36mCell\u001b[39m\u001b[36m \u001b[39m\u001b[32mIn[17]\u001b[39m\u001b[32m, line 1\u001b[39m\n\u001b[32m----> \u001b[39m\u001b[32m1\u001b[39m \u001b[38;5;28;43mrange\u001b[39;49m\u001b[43m(\u001b[49m\u001b[32;43m0\u001b[39;49m\u001b[43m,\u001b[49m\u001b[43m \u001b[49m\u001b[32;43m5\u001b[39;49m\u001b[43m,\u001b[49m\u001b[43m \u001b[49m\u001b[32;43m2\u001b[39;49m\u001b[43m)\u001b[49m\u001b[43m \u001b[49m\u001b[43m*\u001b[49m\u001b[43m \u001b[49m\u001b[32;43m3\u001b[39;49m\n",
      "\u001b[31mTypeError\u001b[39m: unsupported operand type(s) for *: 'range' and 'int'"
     ]
    }
   ],
   "source": [
    "range(0, 5, 2) * 3"
   ]
  },
  {
   "cell_type": "markdown",
   "id": "43b9ea4f",
   "metadata": {},
   "source": [
    "이때는 range를 리스트 또는 튜플로 만들어서 반복"
   ]
  },
  {
   "cell_type": "code",
   "execution_count": 18,
   "id": "4bf8ae93",
   "metadata": {},
   "outputs": [
    {
     "data": {
      "text/plain": [
       "[0, 2, 4, 0, 2, 4, 0, 2, 4]"
      ]
     },
     "execution_count": 18,
     "metadata": {},
     "output_type": "execute_result"
    }
   ],
   "source": [
    "list(range(0, 5, 2)) * 3"
   ]
  },
  {
   "cell_type": "code",
   "execution_count": 19,
   "id": "f5b4f5bc",
   "metadata": {},
   "outputs": [
    {
     "data": {
      "text/plain": [
       "(0, 2, 4, 0, 2, 4, 0, 2, 4)"
      ]
     },
     "execution_count": 19,
     "metadata": {},
     "output_type": "execute_result"
    }
   ],
   "source": [
    "tuple(range(0, 5, 2)) * 3"
   ]
  }
 ],
 "metadata": {
  "kernelspec": {
   "display_name": "Python 3",
   "language": "python",
   "name": "python3"
  },
  "language_info": {
   "codemirror_mode": {
    "name": "ipython",
    "version": 3
   },
   "file_extension": ".py",
   "mimetype": "text/x-python",
   "name": "python",
   "nbconvert_exporter": "python",
   "pygments_lexer": "ipython3",
   "version": "3.13.5"
  }
 },
 "nbformat": 4,
 "nbformat_minor": 5
}
