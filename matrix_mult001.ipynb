{
 "cells": [
  {
   "cell_type": "code",
   "execution_count": 5,
   "id": "7937945d",
   "metadata": {},
   "outputs": [
    {
     "name": "stdout",
     "output_type": "stream",
     "text": [
      "Matrix M1:\n",
      " [[4 1 3]\n",
      " [3 2 4]\n",
      " [2 3 3]\n",
      " [4 4 4]]\n",
      "Matrix M2:\n",
      " [[3 2 1 1 1]\n",
      " [3 3 2 2 1]\n",
      " [1 2 1 3 2]]\n",
      "Matrix C:\n",
      " [[18 17  9 15 11]\n",
      " [19 20 11 19 13]\n",
      " [18 19 11 17 11]\n",
      " [28 28 16 24 16]]\n"
     ]
    }
   ],
   "source": [
    "import numpy as np\n",
    "\n",
    "M1=np.random.randint(1, 5, (4, 3))\n",
    "M2=np.random.randint(1,4, (3, 5))\n",
    "print(\"Matrix M1:\\n\", M1)\n",
    "print(\"Matrix M2:\\n\", M2)\n",
    "C=M1@M2\n",
    "print(\"Matrix C:\\n\", C)\n"
   ]
  }
 ],
 "metadata": {
  "kernelspec": {
   "display_name": "Python 3",
   "language": "python",
   "name": "python3"
  },
  "language_info": {
   "codemirror_mode": {
    "name": "ipython",
    "version": 3
   },
   "file_extension": ".py",
   "mimetype": "text/x-python",
   "name": "python",
   "nbconvert_exporter": "python",
   "pygments_lexer": "ipython3",
   "version": "3.13.5"
  }
 },
 "nbformat": 4,
 "nbformat_minor": 5
}
