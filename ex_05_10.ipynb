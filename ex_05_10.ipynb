{
 "cells": [
  {
   "cell_type": "code",
   "execution_count": 1,
   "id": "4ce02c36",
   "metadata": {},
   "outputs": [
    {
     "name": "stdout",
     "output_type": "stream",
     "text": [
      "Column Vector u:\n",
      " [[2]\n",
      " [4]\n",
      " [1]]\n",
      "Row Vector u_T:\n",
      " [[2 4 1]]\n",
      "Column Vector v:\n",
      " [[3]\n",
      " [5]\n",
      " [0]\n",
      " [2]]\n",
      "Row Vector v_T:\n",
      " [[3 5 0 2]]\n",
      "Column Vector w:\n",
      " [[1]\n",
      " [0]\n",
      " [1]\n",
      " [5]]\n",
      "Row Vector w_T:\n",
      " [[1 0 1 5]]\n",
      "Matrix A:\n",
      " [[-1 -2 -6 -6]\n",
      " [ 1 -1  0 -2]\n",
      " [-1  0 -1 -4]]\n",
      "Transpose of Matrix A:\n",
      " [[-1  1 -1]\n",
      " [-2 -1  0]\n",
      " [-6  0 -1]\n",
      " [-6 -2 -4]]\n"
     ]
    }
   ],
   "source": [
    "import numpy as np\n",
    "\n",
    "u=np.array([[2],[4],[1]])\n",
    "print(\"Column Vector u:\\n\", u)\n",
    "u_T=u.T\n",
    "print(\"Row Vector u_T:\\n\", u_T)\n",
    "#print(\"Dot product of u and u_T:\", np.dot(u, u_T))\n",
    "v=np.array([[3],[5],[0],[2]])\n",
    "print(\"Column Vector v:\\n\", v)\n",
    "v_T=v.T\n",
    "print(\"Row Vector v_T:\\n\", v_T)\n",
    "w=np.array([[1],[0],[1],[5]])\n",
    "print(\"Column Vector w:\\n\", w)\n",
    "w_T=w.T\n",
    "print(\"Row Vector w_T:\\n\", w_T)\n",
    "A=np.array([[-1, -2,-6,-6],[1,-1,0,-2],[-1,0,-1,-4]])\n",
    "print(\"Matrix A:\\n\", A)\n",
    "A_T=A.T\n",
    "print(\"Transpose of Matrix A:\\n\", A_T)\n",
    "#a=w*u.T\n",
    "#print(\"Vector a:\", a)"
   ]
  },
  {
   "cell_type": "code",
   "execution_count": 4,
   "id": "7b1db525",
   "metadata": {},
   "outputs": [
    {
     "name": "stdout",
     "output_type": "stream",
     "text": [
      "Vector b:\n",
      " [[ 1  5  0]\n",
      " [-2 -1  0]\n",
      " [-4  4  0]\n",
      " [ 4 18  1]]\n"
     ]
    }
   ],
   "source": [
    "# a=w*u_T+A # 모양이 맞지 않음\n",
    "b=w*u_T+A_T\n",
    "print(\"Vector b:\\n\", b)"
   ]
  },
  {
   "cell_type": "code",
   "execution_count": 6,
   "id": "c21da367",
   "metadata": {},
   "outputs": [
    {
     "name": "stdout",
     "output_type": "stream",
     "text": [
      "Vector c:\n",
      " [[ 7 12  6 10]\n",
      " [11 21  0 10]\n",
      " [ 4  5  1  6]]\n"
     ]
    }
   ],
   "source": [
    "c=u*v_T-A\n",
    "print(\"Vector c:\\n\", c)"
   ]
  },
  {
   "cell_type": "code",
   "execution_count": 9,
   "id": "d3d429bb",
   "metadata": {},
   "outputs": [],
   "source": [
    "#d=v*w_T-A\n",
    "#print(\"Vector d:\\n\", d)\n",
    "#e=v*w_T+A_T\n",
    "##print(\"Vector e:\\n\", e)"
   ]
  },
  {
   "cell_type": "code",
   "execution_count": 10,
   "id": "9faf5ed6",
   "metadata": {},
   "outputs": [
    {
     "name": "stdout",
     "output_type": "stream",
     "text": [
      "Updated Matrix A:\n",
      " [[2 4 3]\n",
      " [0 1 3]]\n",
      "Transpose of Updated Matrix A:\n",
      " [[2 0]\n",
      " [4 1]\n",
      " [3 3]]\n",
      "Matrix B:\n",
      " [[-2  1  3]\n",
      " [ 6 -7  7]]\n",
      "Transpose of Matrix B:\n",
      " [[-2  6]\n",
      " [ 1 -7]\n",
      " [ 3  7]]\n",
      "Matrix C:\n",
      " [[ 0 -6]\n",
      " [-3 -2]\n",
      " [-2  7]]\n",
      "Transpose of Matrix C:\n",
      " [[ 0 -3 -2]\n",
      " [-6 -2  7]]\n",
      "Matrix D:\n",
      " [[1 2]\n",
      " [3 4]\n",
      " [2 4]]\n",
      "Transpose of Matrix D:\n",
      " [[1 3 2]\n",
      " [2 4 4]]\n"
     ]
    }
   ],
   "source": [
    "A=np.array([[2, 4,3],[0,1,3]])\n",
    "print(\"Updated Matrix A:\\n\", A)\n",
    "A_T=A.T\n",
    "print(\"Transpose of Updated Matrix A:\\n\", A_T)\n",
    "B=np.array([[-2,1, 3],[6,-7,7]])\n",
    "print(\"Matrix B:\\n\", B)\n",
    "B_T=B.T\n",
    "print(\"Transpose of Matrix B:\\n\", B_T)\n",
    "C=np.array([[0, -6],[-3,-2],[-2,7]] )\n",
    "print(\"Matrix C:\\n\", C)\n",
    "C_T=C.T \n",
    "print(\"Transpose of Matrix C:\\n\", C_T)\n",
    "D=np.array([[1, 2],[3,4],[2,4]])\n",
    "print(\"Matrix D:\\n\", D)\n",
    "D_T=D.T \n",
    "print(\"Transpose of Matrix D:\\n\", D_T)\n"
   ]
  },
  {
   "cell_type": "code",
   "execution_count": 11,
   "id": "cb8f726a",
   "metadata": {},
   "outputs": [
    {
     "name": "stdout",
     "output_type": "stream",
     "text": [
      "Vector a:\n",
      " [[ -4   7  12]\n",
      " [ 18 -20  24]]\n"
     ]
    }
   ],
   "source": [
    "a=A+3*B\n",
    "print(\"Vector a:\\n\", a)"
   ]
  },
  {
   "cell_type": "code",
   "execution_count": 14,
   "id": "ad8848ad",
   "metadata": {},
   "outputs": [
    {
     "name": "stdout",
     "output_type": "stream",
     "text": [
      "Vector c:\n",
      " [[-1 -8]\n",
      " [-6 -6]\n",
      " [-4  3]]\n"
     ]
    }
   ],
   "source": [
    "#b=A+C\n",
    "#print(\"Vector b:\\n\", b)\n",
    "\n",
    "c=C-D\n",
    "print(\"Vector c:\\n\", c)"
   ]
  },
  {
   "cell_type": "code",
   "execution_count": 15,
   "id": "fa95feaf",
   "metadata": {},
   "outputs": [
    {
     "name": "stdout",
     "output_type": "stream",
     "text": [
      "Vector d:\n",
      " [[ 1 -4]\n",
      " [ 0  2]\n",
      " [ 0 11]]\n"
     ]
    }
   ],
   "source": [
    "d=D+C\n",
    "print(\"Vector d:\\n\", d)"
   ]
  },
  {
   "cell_type": "code",
   "execution_count": 16,
   "id": "3b0ff24c",
   "metadata": {},
   "outputs": [
    {
     "name": "stdout",
     "output_type": "stream",
     "text": [
      "Vector e:\n",
      " [[3 2]\n",
      " [7 5]\n",
      " [5 7]]\n"
     ]
    }
   ],
   "source": [
    "e=A_T+D\n",
    "print(\"Vector e:\\n\", e)"
   ]
  },
  {
   "cell_type": "code",
   "execution_count": 17,
   "id": "530196c1",
   "metadata": {},
   "outputs": [
    {
     "name": "stdout",
     "output_type": "stream",
     "text": [
      "Vector f:\n",
      " [[  0  -6]\n",
      " [ -1 -10]\n",
      " [  2  24]]\n"
     ]
    }
   ],
   "source": [
    "f=(A+B).T+2*C\n",
    "print(\"Vector f:\\n\", f)"
   ]
  },
  {
   "cell_type": "code",
   "execution_count": 18,
   "id": "194a3b74",
   "metadata": {},
   "outputs": [
    {
     "name": "stdout",
     "output_type": "stream",
     "text": [
      "Vector g:\n",
      " [[ 4 10 10]\n",
      " [ 0 -6 23]]\n"
     ]
    }
   ],
   "source": [
    "g=3*A+(B_T+C).T\n",
    "print(\"Vector g:\\n\", g)"
   ]
  },
  {
   "cell_type": "code",
   "execution_count": 23,
   "id": "5e46e8f1",
   "metadata": {},
   "outputs": [],
   "source": [
    "#h=-4*(A_T+C).T+D\n",
    "#print(\"Vector h:\\n\", h)"
   ]
  }
 ],
 "metadata": {
  "kernelspec": {
   "display_name": "Python 3",
   "language": "python",
   "name": "python3"
  },
  "language_info": {
   "codemirror_mode": {
    "name": "ipython",
    "version": 3
   },
   "file_extension": ".py",
   "mimetype": "text/x-python",
   "name": "python",
   "nbconvert_exporter": "python",
   "pygments_lexer": "ipython3",
   "version": "3.13.5"
  }
 },
 "nbformat": 4,
 "nbformat_minor": 5
}
