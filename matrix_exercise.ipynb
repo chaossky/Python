{
 "cells": [
  {
   "cell_type": "code",
   "execution_count": 1,
   "id": "1be0c038",
   "metadata": {},
   "outputs": [
    {
     "name": "stdout",
     "output_type": "stream",
     "text": [
      "Original column vector:\n",
      " [[1]\n",
      " [2]\n",
      " [3]]\n",
      "\n",
      "Row vector using transpose:\n",
      " [[1 2 3]]\n",
      "\n",
      "Row vector using reshape:\n",
      " [[1 2 3]]\n",
      "\n",
      "Row vector using flatten and reshape:\n",
      " [[1 2 3]]\n"
     ]
    }
   ],
   "source": [
    "import numpy as np\n",
    "\n",
    "# 열 벡터 (column vector): 3x1 shape\n",
    "column_vector = np.array([[1], [2], [3]])\n",
    "print(\"Original column vector:\\n\", column_vector)\n",
    "#print(\"Shape:\", column_vector.shape)  # (3, 1)\n",
    "\n",
    "# 방법 1: 전치(transpose)\n",
    "row_vector_1 = column_vector.T\n",
    "print(\"\\nRow vector using transpose:\\n\", row_vector_1)\n",
    "#print(\"Shape:\", row_vector_1.shape)  # (1, 3)\n",
    "\n",
    "# 방법 2: reshape 사용\n",
    "row_vector_2 = column_vector.reshape(1, -1)\n",
    "print(\"\\nRow vector using reshape:\\n\", row_vector_2)\n",
    "#print(\"Shape:\", row_vector_2.shape)  # (1, 3)\n",
    "\n",
    "# 방법 3: flatten 후 다시 2차원으로\n",
    "row_vector_3 = column_vector.flatten().reshape(1, -1)\n",
    "print(\"\\nRow vector using flatten and reshape:\\n\", row_vector_3)\n",
    "#print(\"Shape:\", row_vector_3.shape)  # (1, 3)"
   ]
  },
  {
   "cell_type": "markdown",
   "id": "5a1b6742",
   "metadata": {},
   "source": []
  }
 ],
 "metadata": {
  "kernelspec": {
   "display_name": "Python 3",
   "language": "python",
   "name": "python3"
  },
  "language_info": {
   "codemirror_mode": {
    "name": "ipython",
    "version": 3
   },
   "file_extension": ".py",
   "mimetype": "text/x-python",
   "name": "python",
   "nbconvert_exporter": "python",
   "pygments_lexer": "ipython3",
   "version": "3.13.5"
  }
 },
 "nbformat": 4,
 "nbformat_minor": 5
}
