{
 "cells": [
  {
   "cell_type": "code",
   "execution_count": null,
   "id": "9d5e73d6",
   "metadata": {},
   "outputs": [],
   "source": [
    "import numpy as np\n",
    "\n",
    "A=np.random.rand(9, 2)\n",
    "B=np.random.rand(2, 16)\n",
    "print(A)\n",
    "print(B)\n",
    "C=A@B\n",
    "print(\"M C is\")\n",
    "print(C)\n",
    "print(C.shape)  \n"
   ]
  },
  {
   "cell_type": "code",
   "execution_count": null,
   "id": "c4d2f5f1",
   "metadata": {},
   "outputs": [],
   "source": [
    "Z=np.zeros((5,5))\n",
    "N=np.random.rand(5,5)\n",
    "ZN=Z+N*np.finfo(float).eps*1e-307\n",
    "print(np.linalg.matrix_rank(Z))\n",
    "#print(np.linalg.matrix_rank(N))\n",
    "print(np.linalg.matrix_rank(ZN))    \n",
    "print(np.linalg.norm(ZN,\"fro\"))"
   ]
  }
 ],
 "metadata": {
  "kernelspec": {
   "display_name": "Python 3",
   "language": "python",
   "name": "python3"
  },
  "language_info": {
   "codemirror_mode": {
    "name": "ipython",
    "version": 3
   },
   "file_extension": ".py",
   "mimetype": "text/x-python",
   "name": "python",
   "nbconvert_exporter": "python",
   "pygments_lexer": "ipython3",
   "version": "3.13.5"
  }
 },
 "nbformat": 4,
 "nbformat_minor": 5
}
