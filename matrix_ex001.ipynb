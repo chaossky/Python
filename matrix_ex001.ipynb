{
 "cells": [
  {
   "cell_type": "markdown",
   "id": "7a6d87b1",
   "metadata": {},
   "source": [
    "간단한 행렬을 만들어봅니다.\n",
    "그리고 이를 출력하고, 그것의 전치행렬 (Transpose)해서 출력한다.\n"
   ]
  },
  {
   "cell_type": "code",
   "execution_count": 2,
   "id": "4336005b",
   "metadata": {},
   "outputs": [
    {
     "name": "stdout",
     "output_type": "stream",
     "text": [
      "[[1 2 3]\n",
      " [4 5 6]\n",
      " [7 8 9]]\n",
      "[[1 4 7]\n",
      " [2 5 8]\n",
      " [3 6 9]]\n",
      "[[-1.55910589  2.44970353  0.93938143 -0.21455739  0.58950802]\n",
      " [ 0.09909065  0.84304024  2.21914294 -1.11392098  1.54474685]]\n",
      "[[-1.55910589  0.09909065]\n",
      " [ 2.44970353  0.84304024]\n",
      " [ 0.93938143  2.21914294]\n",
      " [-0.21455739 -1.11392098]\n",
      " [ 0.58950802  1.54474685]]\n",
      "[[-1.55910589  0.09909065]\n",
      " [ 2.44970353  0.84304024]\n",
      " [ 0.93938143  2.21914294]\n",
      " [-0.21455739 -1.11392098]\n",
      " [ 0.58950802  1.54474685]]\n"
     ]
    }
   ],
   "source": [
    "import numpy as np\n",
    "\n",
    "a= np.array([[1, 2, 3], [4, 5, 6], [7, 8, 9]])\n",
    "print(a)\n",
    "print(a.T)\n",
    "\n",
    "B=np.random.randn(2,5)\n",
    "print(B)\n",
    "print(B.T)\n",
    "B_T=np.transpose(B)\n",
    "print(B_T)  \n"
   ]
  },
  {
   "cell_type": "markdown",
   "id": "ade7ca84",
   "metadata": {},
   "source": [
    "아래는 생성(인공지능을 )사용해서 코드를 만들어 보고 이를 적용한후\n",
    "추가해본것이다."
   ]
  },
  {
   "cell_type": "code",
   "execution_count": null,
   "id": "91b4d849",
   "metadata": {},
   "outputs": [],
   "source": [
    "C = np.array([[2, 4, 6], \n",
    "              [8, 10, 12], \n",
    "              [14, 16, 18]])\n",
    "\n",
    "D = np.random.randint(1, 10, size=(3, 4))\n",
    "\n",
    "E = np.eye(3)  # 3x3 identity matrix\n",
    "print(\"Matrix C:\\n\", C)\n",
    "print(\"\\nTranspose of Matrix C:\\n\", C.T)\n",
    "\n",
    "print(\"\\nMatrix D:\\n\", D)\n",
    "print(\"\\nTranspose of Matrix D:\\n\", D.T)  \n",
    "\n",
    "print(\"\\nMatrix E:\\n\", E)  \n",
    "print(\"\\nTranspose of Matrix E:\\n\", E.T)"
   ]
  },
  {
   "cell_type": "code",
   "execution_count": null,
   "id": "8b27c896",
   "metadata": {},
   "outputs": [],
   "source": [
    "# Create a 4x4 symmetric matrix\n",
    "sym_matrix = np.array([[1, 2, 3, 4],\n",
    "                      [2, 5, 6, 7],\n",
    "                      [3, 6, 8, 9],\n",
    "                      [4, 7, 9, 10]])\n",
    "\n",
    "print(\"Symmetric Matrix:\")\n",
    "print(sym_matrix)\n",
    "\n",
    "# Verify it's symmetric by checking if it equals its transpose\n",
    "is_symmetric = np.array_equal(sym_matrix, sym_matrix.T)\n",
    "print(\"\\nIs the matrix symmetric?\", is_symmetric)"
   ]
  },
  {
   "cell_type": "code",
   "execution_count": null,
   "id": "1cf5deca",
   "metadata": {},
   "outputs": [],
   "source": [
    "# Create a 5x5 skew-symmetric matrix\n",
    "\n",
    "skew_matrix = np.array([[0, -2, 3],\n",
    "                        [2, 0, -5],\n",
    "                        [-3, 5, 0]])\n",
    "\n",
    "print(\"Skew-symmetric Matrix:\")\n",
    "print(skew_matrix)\n",
    "\n",
    "# Verify it's skew-symmetric by checking if it equals negative of its transpose\n",
    "is_skew_symmetric = np.array_equal(skew_matrix, -skew_matrix.T)\n",
    "print(\"\\nIs the matrix skew-symmetric?\", is_skew_symmetric)\n",
    "\n",
    "# Show that A^T = -A\n",
    "print(\"\\nTranspose of the matrix:\")\n",
    "print(skew_matrix.T)\n",
    "print(\"\\nNegative of the matrix:\")\n",
    "print(-skew_matrix)"
   ]
  },
  {
   "cell_type": "code",
   "execution_count": null,
   "id": "f66b81c1",
   "metadata": {},
   "outputs": [],
   "source": [
    "# Create a 5x5 skew-symmetric matrix\n",
    "skew_matrix_5x5 = np.array([\n",
    "    [ 0, -1,  2, -3,  4],\n",
    "    [ 1,  0, -5,  6, -7],\n",
    "    [-2,  5,  0, -8,  9],\n",
    "    [ 3, -6,  8,  0, -10],\n",
    "    [-4,  7, -9, 10,  0]\n",
    "])\n",
    "\n",
    "print(\"5x5 Skew-symmetric Matrix:\")\n",
    "print(skew_matrix_5x5)\n",
    "\n",
    "# Verify it's skew-symmetric\n",
    "is_skew_symmetric_5x5 = np.array_equal(skew_matrix_5x5, -skew_matrix_5x5.T)\n",
    "print(\"\\nIs the matrix skew-symmetric?\", is_skew_symmetric_5x5)"
   ]
  },
  {
   "cell_type": "code",
   "execution_count": null,
   "id": "04c6111f",
   "metadata": {},
   "outputs": [],
   "source": [
    "# Create identity vectors of different sizes\n",
    "id_vec_3 = np.eye(3, 1).flatten()  # 3x1 identity vector\n",
    "id_vec_4 = np.eye(4, 1).flatten()  # 4x1 identity vector\n",
    "id_vec_5 = np.eye(5, 1).flatten()  # 5x1 identity vector\n",
    "\n",
    "print(\"3D Identity Vector:\", id_vec_3)\n",
    "print(\"4D Identity Vector:\", id_vec_4)\n",
    "print(\"5D Identity Vector:\", id_vec_5)"
   ]
  },
  {
   "cell_type": "code",
   "execution_count": null,
   "id": "22aa928b",
   "metadata": {},
   "outputs": [],
   "source": [
    "# Reshape the existing identity vectors into column vectors\n",
    "col_vec_3 = id_vec_3.reshape(-1, 1)\n",
    "col_vec_4 = id_vec_4.reshape(-1, 1)\n",
    "col_vec_5 = id_vec_5.reshape(-1, 1)\n",
    "\n",
    "# Print the column vectors\n",
    "print(\"3D Identity Column Vector:\\n\", col_vec_3)\n",
    "print(\"\\n4D Identity Column Vector:\\n\", col_vec_4)\n",
    "print(\"\\n5D Identity Column Vector:\\n\", col_vec_5)\n",
    "\n",
    "# Calculate the dot product of each vector with itself\n",
    "dot_prod_3 = np.dot(id_vec_3, col_vec_3)\n",
    "dot_prod_4 = np.dot(id_vec_4, col_vec_4)\n",
    "dot_prod_5 = np.dot(id_vec_5, col_vec_5)\n",
    "\n",
    "print(\"\\nDot products with themselves:\")\n",
    "print(\"3D vector:\", dot_prod_3)\n",
    "print(\"4D vector:\", dot_prod_4)\n",
    "print(\"5D vector:\", dot_prod_5)"
   ]
  },
  {
   "cell_type": "code",
   "execution_count": null,
   "id": "c6cce4b8",
   "metadata": {},
   "outputs": [],
   "source": [
    "# Create identity matrices of different sizes\n",
    "id_2 = np.eye(2)  # 2x2 identity matrix\n",
    "id_4 = np.eye(4)  # 4x4 identity matrix\n",
    "id_6 = np.eye(6)  # 6x6 identity matrix\n",
    "\n",
    "print(\"2x2 Identity Matrix:\\n\", id_2)\n",
    "print(\"\\n4x4 Identity Matrix:\\n\", id_4)\n",
    "print(\"\\n6x6 Identity Matrix:\\n\", id_6)"
   ]
  },
  {
   "cell_type": "code",
   "execution_count": null,
   "id": "e5e130d8",
   "metadata": {},
   "outputs": [],
   "source": [
    "# Create zeros matrices of different sizes\n",
    "zeros_2x3 = np.zeros((2, 3))\n",
    "zeros_3x4 = np.zeros((3, 4))\n",
    "zeros_4x5 = np.zeros((4, 5))\n",
    "\n",
    "print(\"2x3 Zeros Matrix:\\n\", zeros_2x3)\n",
    "print(\"\\n3x4 Zeros Matrix:\\n\", zeros_3x4)\n",
    "print(\"\\n4x5 Zeros Matrix:\\n\", zeros_4x5)"
   ]
  },
  {
   "cell_type": "code",
   "execution_count": null,
   "id": "d98617ab",
   "metadata": {},
   "outputs": [],
   "source": [
    "# Create square zeros matrices\n",
    "zeros_3x3 = np.zeros((3, 3))\n",
    "zeros_5x5 = np.zeros((5, 5))\n",
    "zeros_6x6 = np.zeros((6, 6))\n",
    "\n",
    "print(\"3x3 Square Zeros Matrix:\\n\", zeros_3x3)\n",
    "print(\"\\n5x5 Square Zeros Matrix:\\n\", zeros_5x5)\n",
    "print(\"\\n6x6 Square Zeros Matrix:\\n\", zeros_6x6)"
   ]
  },
  {
   "cell_type": "code",
   "execution_count": null,
   "id": "3332ad42",
   "metadata": {},
   "outputs": [],
   "source": [
    "\n",
    "I= np.eye(4)  # 3x3 identity matrix\n",
    "print(\"Identity Matrix I:\\n\", I)\n",
    "O=np.ones(4)\n",
    "print(\"Ones Vector O:\\n\", O)\n",
    "# Create a 3x3 identity matrix\n",
    "Z=np.zeros(4)\n",
    "print(\"Zeros Vector Z:\\n\", Z)\n",
    "zb=np.zeros((4,4))\n",
    "print(\"Zeros Matrix zb:\\n\", zb)\n",
    "\n"
   ]
  },
  {
   "cell_type": "code",
   "execution_count": null,
   "id": "19a3e76d",
   "metadata": {},
   "outputs": [],
   "source": [
    "D=np.diag([1, 2, 3, 5])\n",
    "# Diagonal matrix with elements 1, 2, 3, 5\n",
    "print(\"Diagonal Matrix D:\\n\", D)\n",
    "R=np.random.rand(3,4)\n",
    "d=np.diag(R)\n",
    "k=np.diag(D)\n",
    "print(\"Random Matrix R:\\n\", R)\n",
    "print(\"Diagonal of Random Matrix d:\\n\", d)\n",
    "print(\"Diagonal of Matrix D:\\n\", k)\n"
   ]
  },
  {
   "cell_type": "code",
   "execution_count": null,
   "id": "747be716",
   "metadata": {},
   "outputs": [],
   "source": [
    "# Create two matrices\n",
    "A = np.random.randint(1, 10, size=(3, 5))  # 3x5 matrix\n",
    "B = np.random.randint(1, 10, size=(3, 4))  # 3x4 matrix\n",
    "\n",
    "# Display the original matrices\n",
    "print(\"Matrix 1 (3x5):\")\n",
    "print(A)\n",
    "print(\"\\nMatrix 2 (3x4):\")\n",
    "print(B)\n",
    "\n",
    "# Augment the matrices horizontally\n",
    "AB = np.concatenate((A,B), axis=1)\n",
    "print(\"\\nAugmented Matrix (3x9):\")\n",
    "print(AB)"
   ]
  },
  {
   "cell_type": "code",
   "execution_count": null,
   "id": "4c0d5c47",
   "metadata": {},
   "outputs": [],
   "source": [
    "A = np.random.randint(1,10,(5,5))\n",
    "L=np.tril(A)\n",
    "U=np.triu(A)# 3x5 matrix\n",
    "print(\"Matrix A:\\n\", A)\n",
    "print(\"Lower Triangular Matrix L:\\n\", L)\n",
    "print(\"Upper Triangular Matrix U:\\n\", U)    "
   ]
  },
  {
   "cell_type": "code",
   "execution_count": null,
   "id": "70ae0103",
   "metadata": {},
   "outputs": [],
   "source": [
    "from scipy.linalg import hankel, toeplitz\n",
    "t=[1, 2, 3, 4 ]\n",
    "T=toeplitz(t)\n",
    "print(\"Toeplitz Matrix T:\\n\", T)\n",
    "H = hankel(t, r=[2,3,4,1])\n",
    "print(\"Hankel Matrix H:\\n\", H)\n",
    "# Create a Hankel matrix\n"
   ]
  },
  {
   "cell_type": "code",
   "execution_count": null,
   "id": "c2795441",
   "metadata": {},
   "outputs": [],
   "source": [
    "l=0.1\n",
    "I= np.eye(4) \n",
    "A=np.random.randn(4, 4)  # Random 4x4 matrix\n",
    "As=A + l * I  # Add a small multiple of the identity matrix\n",
    "print(\"Matrix A:\\n\", A)\n",
    "print(\"Regularized Matrix As:\\n\", As)\n"
   ]
  },
  {
   "cell_type": "code",
   "execution_count": null,
   "id": "9937f0ec",
   "metadata": {},
   "outputs": [],
   "source": [
    "l=0.1\n",
    "I= np.eye(3) \n",
    "A=np.array([[0.4,3,0],[2,1,0],[0.1,0.4,0]])  # Random 4x4 matrix\n",
    "As=A + l * I  # Add a small multiple of the identity matrix\n",
    "print(\"Matrix A:\\n\", A)\n",
    "print(\"Regularized Matrix As:\\n\", As)"
   ]
  },
  {
   "cell_type": "code",
   "execution_count": null,
   "id": "3d895cec",
   "metadata": {},
   "outputs": [],
   "source": [
    "l=-1\n",
    "I= np.eye(3) \n",
    "A=np.array([[43,42,42],[237,746,12],[0,33,1001]])  # Random 4x4 matrix\n",
    "As=A + l * I  # Add a small multiple of the identity matrix\n",
    "print(\"Matrix A:\\n\", A)\n",
    "print(\"Regularized Matrix As:\\n\", As)"
   ]
  },
  {
   "cell_type": "code",
   "execution_count": null,
   "id": "a9eda866",
   "metadata": {},
   "outputs": [],
   "source": [
    "A=np.random.randn(4, 4) \n",
    "B=np.random.randint(1, 10, size=(4, 4))  # Random 4x4 matrix\n",
    "print(\"Matrix A:\\n\", A)\n",
    "print(\"Matrix B:\\n\", B)\n",
    "trA=np.trace(A)\n",
    "trB=np.trace(B)\n",
    "print(\"Trace of Matrix A:\", trA)\n",
    "print(\"Trace of Matrix B:\", trB)\n",
    "\n"
   ]
  },
  {
   "cell_type": "markdown",
   "id": "1a710d29",
   "metadata": {},
   "source": [
    "5.10의 연습문제를 풀어본다."
   ]
  },
  {
   "cell_type": "markdown",
   "id": "e375ff30",
   "metadata": {
    "notebookRunGroups": {
     "groupValue": "1"
    }
   },
   "source": [
    "# 아래의 벡터를 정의하고, 기본적인 산술 연산을 해보자.\n",
    "# 연산이 성립하지 않는 경우  그 이유를 생각해보자."
   ]
  },
  {
   "cell_type": "code",
   "execution_count": null,
   "id": "32795dba",
   "metadata": {},
   "outputs": [],
   "source": []
  }
 ],
 "metadata": {
  "kernelspec": {
   "display_name": "Python 3",
   "language": "python",
   "name": "python3"
  },
  "language_info": {
   "codemirror_mode": {
    "name": "ipython",
    "version": 3
   },
   "file_extension": ".py",
   "mimetype": "text/x-python",
   "name": "python",
   "nbconvert_exporter": "python",
   "pygments_lexer": "ipython3",
   "version": "3.13.5"
  }
 },
 "nbformat": 4,
 "nbformat_minor": 5
}
