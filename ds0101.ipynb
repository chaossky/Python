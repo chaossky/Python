{
 "cells": [
  {
   "cell_type": "code",
   "execution_count": 7,
   "id": "89973899",
   "metadata": {},
   "outputs": [
    {
     "name": "stdout",
     "output_type": "stream",
     "text": [
      "['banana', 'banana', 'banana', 'apple', 'cherry']\n"
     ]
    }
   ],
   "source": [
    "import random\n",
    "items = ['apple', 'banana', 'cherry']\n",
    "print(random.choices(items, weights=[1, 2, 1], k=5))  # 예: ['banana', 'banana', 'apple', 'cherry', 'banana']"
   ]
  },
  {
   "cell_type": "code",
   "execution_count": 14,
   "id": "da25e8f2",
   "metadata": {},
   "outputs": [],
   "source": [
    "faces=['head', 'tail']\n",
    "coins=random.choices(faces, weights=[1, 1], k=20)  # 동전 던지기 예: ['head', 'tail', 'head', 'tail', 'head', 'tail', 'head', 'tail', 'head', 'tail']\n",
    "#print(random.choices(faces, weights=[1, 1], k=20))  # 예: ['head', 'tail', 'head', 'tail', 'head', 'tail', 'head', 'tail', 'head', 'tail']"
   ]
  },
  {
   "cell_type": "code",
   "execution_count": 11,
   "id": "7841a976",
   "metadata": {},
   "outputs": [
    {
     "data": {
      "text/plain": [
       "['tail',\n",
       " 'head',\n",
       " 'tail',\n",
       " 'head',\n",
       " 'tail',\n",
       " 'tail',\n",
       " 'head',\n",
       " 'head',\n",
       " 'tail',\n",
       " 'head']"
      ]
     },
     "execution_count": 11,
     "metadata": {},
     "output_type": "execute_result"
    }
   ],
   "source": [
    "coins"
   ]
  },
  {
   "cell_type": "code",
   "execution_count": 15,
   "id": "98a3bd30",
   "metadata": {},
   "outputs": [
    {
     "data": {
      "text/plain": [
       "12"
      ]
     },
     "execution_count": 15,
     "metadata": {},
     "output_type": "execute_result"
    }
   ],
   "source": [
    "coins.count('head')  # 'head'의 개수 세기\n",
    "#coins.count('tail')  # 'tail'의 개수 세기"
   ]
  }
 ],
 "metadata": {
  "kernelspec": {
   "display_name": "Python 3",
   "language": "python",
   "name": "python3"
  },
  "language_info": {
   "codemirror_mode": {
    "name": "ipython",
    "version": 3
   },
   "file_extension": ".py",
   "mimetype": "text/x-python",
   "name": "python",
   "nbconvert_exporter": "python",
   "pygments_lexer": "ipython3",
   "version": "3.13.5"
  }
 },
 "nbformat": 4,
 "nbformat_minor": 5
}
