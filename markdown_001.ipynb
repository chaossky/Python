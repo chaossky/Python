{
 "cells": [
  {
   "cell_type": "markdown",
   "id": "a2ba8180",
   "metadata": {},
   "source": [
    "# H1\n",
    "\n",
    "## H2\n",
    "\n",
    "### H3\n",
    "\n",
    "**bold text**\n",
    "\n",
    "*italicized text*\n",
    "\n",
    ">blockquote\n",
    "\n",
    "1. First item\n",
    "2. Second item\n",
    "3. Third item\n",
    "\n",
    "- First item\n",
    "- Second item\n",
    "- Third item\n",
    "\n",
    "`code`\n",
    "\n",
    "---\n",
    "\n",
    "[https://www.google.com](https://www.google.com)\n",
    "\n",
    "![오리사진](duck.jpeg)"
   ]
  },
  {
   "cell_type": "markdown",
   "id": "49cd1097",
   "metadata": {},
   "source": [
    "Let's find the equation of a line given:\n",
    "* Direction vector: $\\vec{u} = (u_1, u_2)$\n",
    "* Point: $P(p_1, p_2)$\n",
    "\n",
    "The parametric form of the line equation is:\n",
    "$(x,y) = (p_1, p_2) + t(u_1, u_2)$ where $t$ is a parameter\n",
    "\n",
    "This can be written as:\n",
    "* $x = p_1 + tu_1$\n",
    "* $y = p_2 + tu_2$\n",
    "\n",
    "Eliminating parameter $t$:\n",
    "$\\frac{x-p_1}{u_1} = \\frac{y-p_2}{u_2}$\n",
    "\n",
    "Therefore, the line equation is:\n",
    "$u_2(x-p_1) = u_1(y-p_2)$"
   ]
  },
  {
   "cell_type": "code",
   "execution_count": null,
   "id": "f12e6e7f",
   "metadata": {},
   "outputs": [],
   "source": []
  }
 ],
 "metadata": {
  "kernelspec": {
   "display_name": "Python 3",
   "language": "python",
   "name": "python3"
  },
  "language_info": {
   "codemirror_mode": {
    "name": "ipython",
    "version": 3
   },
   "file_extension": ".py",
   "mimetype": "text/x-python",
   "name": "python",
   "nbconvert_exporter": "python",
   "pygments_lexer": "ipython3",
   "version": "3.13.5"
  }
 },
 "nbformat": 4,
 "nbformat_minor": 5
}
