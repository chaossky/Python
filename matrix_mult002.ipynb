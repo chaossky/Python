{
 "cells": [
  {
   "cell_type": "markdown",
   "id": "bc3f663a",
   "metadata": {},
   "source": [
    "#### 행렬과 벡터의 곱(연산)의 결과는 벡터이다."
   ]
  },
  {
   "cell_type": "code",
   "execution_count": 29,
   "id": "45451fcf",
   "metadata": {},
   "outputs": [
    {
     "name": "stdout",
     "output_type": "stream",
     "text": [
      "[[26]\n",
      " [34]]\n"
     ]
    }
   ],
   "source": [
    "import numpy as np\n",
    "\n",
    "A= np.array([[4,3,0],[1,1, 9],[0,3,0], [1,1,1]])\n",
    "#print(A)\n",
    "b= np.array([[0],[7],[1]])\n",
    "#print(b)\n",
    "c=A@b\n",
    "#print(c)\n",
    "\n",
    "D= np.array([[4,0,2,0,8,0],[0,3,0,5,0,1]])\n",
    "#print(D)\n",
    "e= np.array([[4],[6],[1],[2],[1],[6]])\n",
    "#print(e)\n",
    "f=D@e\n",
    "print(f)\n",
    "\n"
   ]
  },
  {
   "cell_type": "markdown",
   "id": "cc2b9ef7",
   "metadata": {},
   "source": [
    "#### 행렬을 대칭행렬로 만들어 보고 C=1/2(A+A^T)"
   ]
  },
  {
   "cell_type": "code",
   "execution_count": 30,
   "id": "a5f604fa",
   "metadata": {},
   "outputs": [
    {
     "name": "stdout",
     "output_type": "stream",
     "text": [
      "[[ 1.  3.  0.]\n",
      " [ 3. -2. -2.]\n",
      " [ 0. -2.  2.]]\n",
      "[[-3  0 -2 -2]\n",
      " [-1 -3 -2 -6]\n",
      " [-4 -8 -7  4]\n",
      " [ 6 -2  5  4]]\n",
      "[[-3.  -0.5 -3.   2. ]\n",
      " [-0.5 -3.  -5.  -4. ]\n",
      " [-3.  -5.  -7.   4.5]\n",
      " [ 2.  -4.   4.5  4. ]]\n"
     ]
    }
   ],
   "source": [
    "G=np.array([[1,11,1],[-5,-2,1],[-1,-5,2]])\n",
    "#print(G)\n",
    "H=1/2*(G+G.T)\n",
    "print(H)\n",
    "\n",
    "I=np.array([[-3,0,-2,-2],[-1,-3,-2,-6],[-4,-8,-7,4],[6,-2,5,4]])\n",
    "print(I)\n",
    "J=1/2*(I+I.T)       \n",
    "print(J)"
   ]
  },
  {
   "cell_type": "markdown",
   "id": "77280786",
   "metadata": {},
   "source": [
    "##### 행렬에 자신의 전치 행렬을 곱해서 대칭행렬 만들기"
   ]
  },
  {
   "cell_type": "code",
   "execution_count": 31,
   "id": "a83b55bb",
   "metadata": {},
   "outputs": [
    {
     "name": "stdout",
     "output_type": "stream",
     "text": [
      "[[18  0]\n",
      " [ 0 49]]\n",
      "[[ 9  0  9]\n",
      " [ 0 49  0]\n",
      " [ 9  0  9]]\n"
     ]
    }
   ],
   "source": [
    "K=np.array([[3,0,3],[0,7,0]])\n",
    "L=K@K.T\n",
    "print(L)\n",
    "M=K.T@K\n",
    "print(M)\n"
   ]
  },
  {
   "cell_type": "code",
   "execution_count": 32,
   "id": "fc7fff6e",
   "metadata": {},
   "outputs": [
    {
     "name": "stdout",
     "output_type": "stream",
     "text": [
      "[[37 12]\n",
      " [12 37]]\n",
      "[[37 12]\n",
      " [12 37]]\n"
     ]
    }
   ],
   "source": [
    "N=np.array([[1,6],[6,1]])\n",
    "O=N.T@N\n",
    "print(O)\n",
    "P=N@N.T\n",
    "print(P)\n"
   ]
  },
  {
   "cell_type": "markdown",
   "id": "1806da4b",
   "metadata": {},
   "source": [
    "##### Hadamard - multiply using  *\n"
   ]
  },
  {
   "cell_type": "code",
   "execution_count": null,
   "id": "4522e698",
   "metadata": {},
   "outputs": [],
   "source": [
    "M1=np.random.randint(1,10,(4,3))\n",
    "M2=np.random.randint(1,10,(4,3))\n",
    "print(M1)\n",
    "print(M2)\n",
    "\n",
    "M3=M1*M2\n",
    "print(M3)\n",
    "\n",
    "M3=np.array([[-4,-3,-9],[-5,-2,3],[0,-7,7]])\n",
    "M4=np.array([[-1,4,-3],[-3,-4,2],[3,2,5]])\n",
    "print(M3)\n",
    "print(M4)\n",
    "print(M3*M4)\n"
   ]
  },
  {
   "cell_type": "markdown",
   "id": "763ecbe3",
   "metadata": {},
   "source": [
    "###### vectorization of a matrix"
   ]
  },
  {
   "cell_type": "code",
   "execution_count": null,
   "id": "7d1f084c",
   "metadata": {},
   "outputs": [],
   "source": [
    "P1=np.array([[1,2,3],[4,5,6]])\n",
    "print(P1.flatten(order='F'))  # Fortran-style column-major order\n",
    "print(P1.flatten(order='C'))  # C-style row-major order\n"
   ]
  },
  {
   "cell_type": "markdown",
   "id": "59339f24",
   "metadata": {},
   "source": [
    "##### Frobenious inner product"
   ]
  },
  {
   "cell_type": "code",
   "execution_count": null,
   "id": "d687c7a5",
   "metadata": {},
   "outputs": [],
   "source": [
    "A=np.array([[1,2],[3,4]])\n",
    "B=np.array([[5,6],[7,8]])\n",
    "f=np.trace(A.T@B)\n",
    "print(f)\n",
    "\n",
    "A1=np.array([[4,2],[3,2],[-5,-1]])\n",
    "A2=np.array([[7,-2],[-7,-8],[-1,8]])\n",
    "f1=np.trace(A1.T@A2)\n",
    "print(f1)\n",
    "\n",
    "B1=np.array([[6,1,2],[3,3,-2]])\n",
    "B2=np.array([[4,-11,1],[6,1,-2]])\n",
    "\n",
    "f2=np.trace(B1.T@B2)\n",
    "print(f2)\n",
    "\n",
    "\n",
    "\n",
    "\n"
   ]
  }
 ],
 "metadata": {
  "kernelspec": {
   "display_name": "Python 3",
   "language": "python",
   "name": "python3"
  },
  "language_info": {
   "codemirror_mode": {
    "name": "ipython",
    "version": 3
   },
   "file_extension": ".py",
   "mimetype": "text/x-python",
   "name": "python",
   "nbconvert_exporter": "python",
   "pygments_lexer": "ipython3",
   "version": "3.13.5"
  }
 },
 "nbformat": 4,
 "nbformat_minor": 5
}
