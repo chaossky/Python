{
 "cells": [
  {
   "cell_type": "code",
   "execution_count": null,
   "id": "ece73277",
   "metadata": {},
   "outputs": [],
   "source": [
    "import numpy as np\n",
    "\n",
    "def is_in_row_space(matrix, vector):\n",
    "    # Convert inputs to numpy arrays\n",
    "    A = np.array(matrix)\n",
    "    b = np.array(vector)\n",
    "    \n",
    "    # Solve the system of equations A^T x = b\n",
    "    # where x will be the coefficients\n",
    "    try:\n",
    "        coefficients = np.linalg.solve(A.T, b)\n",
    "        \n",
    "        # Verify the solution (accounting for numerical errors)\n",
    "        if np.allclose(A.T @ coefficients, b):\n",
    "            return True, coefficients\n",
    "        else:\n",
    "            return False, None\n",
    "    except np.linalg.LinAlgError:\n",
    "        # If the system is not solvable, vector is not in row space\n",
    "        return False, None\n",
    "\n",
    "# Example usage:\n",
    "# matrix = np.array([[1, 2, 3], [4, 5, 6]])\n",
    "# vector = np.array([7, 8, 9])\n",
    "# is_in_space, coeffs = is_in_row_space(matrix, vector)\n",
    "# if is_in_space:\n",
    "#     print(f\"Vector is in row space. Coefficients: {coeffs}\")\n",
    "# else:\n",
    "#     print(\"Vector is not in row space\")\n",
    "\n"
   ]
  },
  {
   "cell_type": "code",
   "execution_count": null,
   "id": "c8507418",
   "metadata": {},
   "outputs": [
    {
     "data": {
      "text/plain": [
       "<function __main__.<lambda>(x)>"
      ]
     },
     "execution_count": 1,
     "metadata": {},
     "output_type": "execute_result"
    }
   ],
   "source": [
    "lambda x:x**2\n",
    "\n",
    " # example of lambda function\n"
   ]
  },
  {
   "cell_type": "code",
   "execution_count": 2,
   "id": "9edfcd2a",
   "metadata": {},
   "outputs": [
    {
     "name": "stdout",
     "output_type": "stream",
     "text": [
      "Squared numbers: [1, 4, 9, 16, 25]\n",
      "Even numbers: [2, 4]\n",
      "Sorted points by y: [(3, 1), (1, 2), (0, 4)]\n",
      "Absolute difference of 5 and 3: 2\n"
     ]
    }
   ],
   "source": [
    "# Examples of lambda functions\n",
    "# 1. Using lambda with map\n",
    "numbers = [1, 2, 3, 4, 5]\n",
    "squared = list(map(lambda x: x**2, numbers))\n",
    "print(\"Squared numbers:\", squared)\n",
    "\n",
    "# 2. Using lambda with filter\n",
    "even_numbers = list(filter(lambda x: x % 2 == 0, numbers))\n",
    "print(\"Even numbers:\", even_numbers)\n",
    "\n",
    "# 3. Using lambda with sorted\n",
    "points = [(1, 2), (3, 1), (0, 4)]\n",
    "sorted_points = sorted(points, key=lambda x: x[1])  # sort by y coordinate\n",
    "print(\"Sorted points by y:\", sorted_points)\n",
    "\n",
    "# 4. Lambda with conditional expression\n",
    "abs_diff = lambda x, y: x-y if x > y else y-x\n",
    "print(\"Absolute difference of 5 and 3:\", abs_diff(5, 3))"
   ]
  },
  {
   "cell_type": "code",
   "execution_count": null,
   "id": "c0fec86a",
   "metadata": {},
   "outputs": [],
   "source": []
  }
 ],
 "metadata": {
  "kernelspec": {
   "display_name": "Python 3",
   "language": "python",
   "name": "python3"
  },
  "language_info": {
   "codemirror_mode": {
    "name": "ipython",
    "version": 3
   },
   "file_extension": ".py",
   "mimetype": "text/x-python",
   "name": "python",
   "nbconvert_exporter": "python",
   "pygments_lexer": "ipython3",
   "version": "3.13.5"
  }
 },
 "nbformat": 4,
 "nbformat_minor": 5
}
