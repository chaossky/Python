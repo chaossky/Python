{
 "cells": [
  {
   "cell_type": "code",
   "execution_count": 5,
   "id": "239a17c5",
   "metadata": {},
   "outputs": [
    {
     "name": "stdout",
     "output_type": "stream",
     "text": [
      "(3+4j)\n",
      "(5+6j)\n",
      "Z =  [0.+0.j 0.+0.j]\n",
      "[3.+4.j 5.+6.j]\n"
     ]
    }
   ],
   "source": [
    "import numpy as np\n",
    "\n",
    "#z=np.complex(3,4)\n",
    "z=complex(3, 4)\n",
    "print(z)\n",
    "z2=complex(5, 6)\n",
    "print(z2)\n",
    "\n",
    "Z=np.zeros(2, dtype=complex )\n",
    "print(\"Z = \",Z)\n",
    "Z[0]=3+4j\n",
    "Z[1]=z2\n",
    "print(Z)"
   ]
  },
  {
   "cell_type": "code",
   "execution_count": 12,
   "id": "e48a3c8d",
   "metadata": {},
   "outputs": [
    {
     "name": "stdout",
     "output_type": "stream",
     "text": [
      "real part is  [-3  0 -3]\n",
      "imaginary part is  [-3 -2  2]\n",
      "[-3.-3.j  0.-2.j -3.+2.j]\n",
      "complex128\n",
      "[-3.  0. -3.]\n",
      "[-3. -2.  2.]\n",
      "[-3.+3.j  0.+2.j -3.-2.j]\n",
      "[18.+0.j  4.+0.j 13.+0.j]\n",
      "[18.  4. 13.]\n",
      "[0. 0. 0.]\n"
     ]
    }
   ],
   "source": [
    "r=np.random.randint(-3, 3,size=3)\n",
    "print(\"real part is \",r)\n",
    "i=np.random.randint(-3, 3,size=3)\n",
    "print(\"imaginary part is \",i)\n",
    "Z=r + 1j*i\n",
    "print(Z)\n",
    "print(Z.dtype)\n",
    "print(Z.real)\n",
    "print(Z.imag)   \n",
    "print(Z.conjugate())\n",
    "ZZ_C=(Z*Z.conjugate())\n",
    "print(ZZ_C)\n",
    "print(ZZ_C.real)\n",
    "print(ZZ_C.imag)\n"
   ]
  },
  {
   "cell_type": "code",
   "execution_count": 30,
   "id": "659caf01",
   "metadata": {},
   "outputs": [
    {
     "name": "stdout",
     "output_type": "stream",
     "text": [
      "[0.+0.j 0.+1.j]\n",
      "(-1+0j)\n",
      "(-1+0j)\n",
      "(1+0j)\n",
      "(1+0j)\n",
      "(1+0j)\n"
     ]
    }
   ],
   "source": [
    "v=np.array([complex(0,0),complex(0,1)])\n",
    "print(v)\n",
    "print(np.dot(v, v))\n",
    "print(np.dot(v,v.T))\n",
    "print(np.dot(v,v.conjugate()))\n",
    "print(np.dot(v.T,v.conjugate()))\n",
    "print(np.vdot(v, v))"
   ]
  },
  {
   "cell_type": "code",
   "execution_count": null,
   "id": "04e01b16",
   "metadata": {},
   "outputs": [
    {
     "name": "stdout",
     "output_type": "stream",
     "text": [
      "(3+4j)\n",
      "(30+6j)\n",
      "1j\n",
      "17\n",
      "(3-4j)\n",
      "(30-6j)\n",
      "-1j\n",
      "17\n"
     ]
    }
   ],
   "source": [
    "a=3+4j\n",
    "print(a)\n",
    "b=-6*(-5-1j)\n",
    "print(b)\n",
    "c=1j #파이썬에서는 j만 사용하면 이것이 그저 string으로 여겨지고, 이것이 허수를 나타내는 것인지 알수 없으므로 1j라고 써야 허수임을 나타낸다.\n",
    "d=17\n",
    "print(c)\n",
    "print(d)\n",
    "\n",
    "print(a.conjugate())\n",
    "print(b.conjugate())\n",
    "print(c.conjugate())\n",
    "print(d.conjugate())"
   ]
  },
  {
   "cell_type": "code",
   "execution_count": 20,
   "id": "15f875de",
   "metadata": {},
   "outputs": [
    {
     "name": "stdout",
     "output_type": "stream",
     "text": [
      "(3+6j)\n",
      "(-2-5j)\n"
     ]
    }
   ],
   "source": [
    "z=complex(3,6)\n",
    "print(z)\n",
    "w=complex(-2,-5)\n",
    "print(w)"
   ]
  },
  {
   "cell_type": "code",
   "execution_count": 24,
   "id": "49024562",
   "metadata": {},
   "outputs": [
    {
     "name": "stdout",
     "output_type": "stream",
     "text": [
      "(30-15j)\n",
      "(-12-30j)\n",
      "(3+0j)\n",
      "(3+60j)\n",
      "(0.5172413793103449+6.206896551724138j)\n",
      "(30-15j)\n",
      "(15+180j)\n",
      "(29+0j)\n"
     ]
    }
   ],
   "source": [
    "a=2*z+w*z\n",
    "b=w*(z+z.conjugate())\n",
    "c=5*z+6*w\n",
    "d=5*z+6*w.conjugate()\n",
    "e=((w+2)*z)/w\n",
    "ja=(w+2)*z\n",
    "ja2=ja*w.conjugate()\n",
    "mo=w*w.conjugate()\n",
    "\n",
    "\n",
    "print(a)\n",
    "print(b)\n",
    "print(c)\n",
    "print(d)\n",
    "print(e)\n",
    "print(ja)\n",
    "print(ja2)\n",
    "print(mo)"
   ]
  },
  {
   "cell_type": "code",
   "execution_count": 31,
   "id": "9fc1f774",
   "metadata": {},
   "outputs": [
    {
     "name": "stdout",
     "output_type": "stream",
     "text": [
      "Hermitian Dot Product (Vectors): (70-8j)\n"
     ]
    }
   ],
   "source": [
    "# Define two complex vectors\n",
    "v1 = np.array([1 + 2j, 3 + 4j])\n",
    "v2 = np.array([5 + 6j, 7 + 8j])\n",
    "\n",
    "# Compute the Hermitian dot product\n",
    "hermitian_dot_product = np.vdot(v1, v2)  # vdot automatically conjugates the first vector\n",
    "print(\"Hermitian Dot Product (Vectors):\", hermitian_dot_product)"
   ]
  },
  {
   "cell_type": "code",
   "execution_count": 32,
   "id": "43329985",
   "metadata": {},
   "outputs": [
    {
     "name": "stdout",
     "output_type": "stream",
     "text": [
      "Hermitian Dot Product (Matrix): (492-32j)\n"
     ]
    }
   ],
   "source": [
    "m1 = np.array([[1 + 2j, 3 + 4j], [5 + 6j, 7 + 8j]])\n",
    "m2 = np.array([[9 + 10j, 11 + 12j], [13 + 14j, 15 + 16j]])\n",
    "\n",
    "# Compute the Hermitian dot product\n",
    "hermitian_dot_product = np.vdot(m1, m2)  # vdot automatically conjugates the first vector\n",
    "print(\"Hermitian Dot Product (Matrix):\", hermitian_dot_product)"
   ]
  },
  {
   "cell_type": "code",
   "execution_count": 39,
   "id": "a10fc24d",
   "metadata": {},
   "outputs": [
    {
     "name": "stdout",
     "output_type": "stream",
     "text": [
      "[[1.+0.j]\n",
      " [0.+3.j]\n",
      " [4.-2.j]]\n",
      "[[0.+1.j]\n",
      " [1.-1.j]\n",
      " [0.+0.j]]\n",
      "(30+0j)\n",
      "(3+0j)\n",
      "(10+0j)\n",
      "a =  (27-2j)\n",
      "b =  (10+0j)\n",
      "c = \n",
      " [[2.+1.j]\n",
      " [3.+9.j]\n",
      " [8.-4.j]]\n"
     ]
    }
   ],
   "source": [
    "z=np.array([[1],[3j],[4-2j]])\n",
    "w=np.array([[1j],[1-1j],[0]])\n",
    "\n",
    "print(z)\n",
    "print(w)\n",
    "\n",
    "a=np.vdot(z,(z+w))\n",
    "b=(np.vdot(z,z))/(np.vdot(w,w))\n",
    "c=2*z+(w*z)\n",
    "\n",
    "up=np.vdot(z,z)\n",
    "do=np.vdot(w,w)\n",
    "result=up/do\n",
    "print(up)\n",
    "print(do)\n",
    "print(result)\n",
    "\n",
    "\n",
    "print(\"a = \",a)\n",
    "print(\"b = \",b)\n",
    "print(\"c = \\n\",c)"
   ]
  },
  {
   "cell_type": "code",
   "execution_count": 16,
   "id": "e88ba146",
   "metadata": {},
   "outputs": [
    {
     "name": "stdout",
     "output_type": "stream",
     "text": [
      "e =  (5-2j)\n",
      "f =  (-5+2j)\n",
      "h =  [[-44.+64.j  12.+88.j -40.+16.j]]\n"
     ]
    }
   ],
   "source": [
    "w=2+5j\n",
    "#print(w)\n",
    "z=0-1j\n",
    "#print(z)\n",
    "d=np.array([[4],[2+2j],[0-4j]])\n",
    "#print(d)\n",
    "R=np.array([[3,4,0+1j],[0-2j,0,0],[4,1,1]])\n",
    "#print(R)\n",
    "\n",
    "# print(\"a = \",np.dot(w,d))\n",
    "# print(\"b = \",np.dot(np.dot(d.conj().T,w),d))\n",
    "# print(\"c = \",np.dot(R,d))\n",
    "# print(\"d = \",np.dot(np.dot(R.conj().T,R),d))\n",
    "\n",
    "print(\"e = \",np.dot(w,z))\n",
    "print(\"f = \", np.dot(w,z.conjugate()))\n",
    "#print(\"g = \",np.dot(np.dot(w,d),R))\n",
    "print(\"h = \",np.dot(np.dot(w,d.conj().T),R))\n"
   ]
  },
  {
   "cell_type": "code",
   "execution_count": 19,
   "id": "f15d68c2",
   "metadata": {},
   "outputs": [
    {
     "name": "stdout",
     "output_type": "stream",
     "text": [
      "[[0.5-0.5j 0.5+0.5j]\n",
      " [0.5+0.5j 0.5-0.5j]]\n",
      "[[1.+0.j 0.+0.j]\n",
      " [0.+0.j 1.+0.j]]\n",
      "[[1.+0.j 0.+0.j]\n",
      " [0.+0.j 1.+0.j]]\n"
     ]
    }
   ],
   "source": [
    "U=0.5*np.array([[1+1j,1-1j],[1-1j,1+1j]])\n",
    "#print(U)\n",
    "U_H=np.matrix(U).H\n",
    "print(U_H)\n",
    "print(np.dot(U.conj().T,U))\n",
    "print(U@U_H)"
   ]
  },
  {
   "cell_type": "code",
   "execution_count": 21,
   "id": "d3a4e0fd",
   "metadata": {},
   "outputs": [
    {
     "name": "stdout",
     "output_type": "stream",
     "text": [
      "[[0.+0.j 0.+0.j 0.+0.j]\n",
      " [0.+0.j 0.+0.j 0.+0.j]\n",
      " [0.+0.j 0.+0.j 0.+0.j]]\n",
      "[[0.-5.78420305e-17j 0.+0.00000000e+00j 0.+3.12250226e-16j]\n",
      " [0.+0.00000000e+00j 0.+6.03103435e-16j 0.-4.44089210e-16j]\n",
      " [0.+3.12250226e-16j 0.-4.44089210e-16j 0.-4.11209298e-17j]]\n"
     ]
    }
   ],
   "source": [
    "r=np.random.randn(3,3)\n",
    "i=np.random.randn(3,3)\n",
    "A=np.matrix(r+i*1j)\n",
    "#print(A)\n",
    "A1=A+A.H\n",
    "A2=A@A.H\n",
    "print(A1-A1.H)\n",
    "print(A2-A2.H) "
   ]
  }
 ],
 "metadata": {
  "kernelspec": {
   "display_name": "Python 3",
   "language": "python",
   "name": "python3"
  },
  "language_info": {
   "codemirror_mode": {
    "name": "ipython",
    "version": 3
   },
   "file_extension": ".py",
   "mimetype": "text/x-python",
   "name": "python",
   "nbconvert_exporter": "python",
   "pygments_lexer": "ipython3",
   "version": "3.13.5"
  }
 },
 "nbformat": 4,
 "nbformat_minor": 5
}
