{
 "cells": [
  {
   "cell_type": "code",
   "execution_count": 1,
   "id": "a8368329",
   "metadata": {},
   "outputs": [
    {
     "name": "stdout",
     "output_type": "stream",
     "text": [
      "놈(Norm) : 3.7416573867739413\n",
      "맨해튼 거리:  6.0\n",
      "놈의 제곱 :  14.0\n"
     ]
    }
   ],
   "source": [
    "import numpy as np\n",
    "\n",
    "\"\"\"\n",
    "\n",
    "In linear algebra, \n",
    "\n",
    "a norm is a function that assigns a non-negative length or size to vectors, \n",
    "effectively generalizing the concept of distance from the origin. \n",
    "\n",
    "It measures the \"size\" or \"magnitude\" of a vector. \n",
    "\n",
    "Norms must satisfy certain properties, \n",
    "including non-negativity (except for the zero vector), \n",
    "homogeneity (scaling the vector scales the norm accordingly), \n",
    "and the triangle inequality (the norm of a sum is less than or equal to the sum of the norms).\n",
    "\n",
    " \n",
    "Here's a more detailed explanation:\n",
    "\n",
    "Definition:\n",
    "A norm, often denoted as ||x||, is a function that takes a vector (from a vector space) as input and returns a non-negative real number. \n",
    "\n",
    "Properties of a Norm:\n",
    "Non-negativity: ||x|| ≥ 0 for all vectors x, and ||x|| = 0 if and only if x is the zero vector. \n",
    "Homogeneity: ||ax|| = |a| ||x|| for any scalar 'a' and vector x. \n",
    "This means scaling a vector scales its norm by the absolute value of the scaling factor. \n",
    "Triangle Inequality: ||x + y|| ≤ ||x|| + ||y|| for any vectors x and y. \n",
    "\n",
    "This property states that the length of the sum of two vectors is less than or equal to the sum of their individual lengths. \n",
    "\n",
    "Examples:\n",
    "Euclidean Norm (L2 Norm): \n",
    "For a vector x = (x₁, x₂, ..., xₙ), the Euclidean norm is calculated as \n",
    "||x||₂ = √(x₁² + x₂² + ... + xₙ²). \n",
    "This is the most common norm and corresponds to the usual notion of distance in Euclidean space. \n",
    "\n",
    "L1 Norm: For a vector x = (x₁, x₂, ..., xₙ), the L1 norm is calculated as ||x||₁ = |x₁| + |x₂| + ... + |xₙ|. \n",
    "\n",
    "L-infinity Norm: For a vector x = (x₁, x₂, ..., xₙ), \n",
    "the L-infinity norm is calculated as ||x||∞ = max(|x₁|, |x₂|, ..., |xₙ|). \n",
    "\n",
    "Applications:\n",
    "Norms are fundamental in linear algebra and have numerous applications, including:\n",
    "Measuring vector length or magnitude: They provide a way to quantify the size of vectors. \n",
    "Defining distance between vectors: Norms can be used to define a distance metric in vector spaces. \n",
    "Regularization in machine learning: Norms are used in various machine learning algorithms to prevent overfitting and improve generalization. \n",
    "Optimization problems: Norms play a crucial role in solving optimization problems where we need to minimize or maximize a function. \n",
    "Error estimation: Norms are used to assess the error in numerical computations and approximations. \n",
    " \n",
    " numpy.linalg.norm() 함수는 벡터뿐만 아니라 행렬의 norm도 계산할 수 있습니다. \n",
    " ord 매개변수를 사용하여 다양한 종류의 norm을 지정할 수 있습니다. \n",
    " 예를 들어, ord=1은 L1 norm (맨해튼 거리), \n",
    " ord=2는 L2 norm (유클리드 거리), \n",
    " ord=np.inf는 최대 절댓값 norm을 계산합니다. \n",
    "\n",
    "예를 들어, 2차원 벡터 (1, 2)의 경우:\n",
    "L1 norm (맨해튼 거리): |1| + |2| = 3\n",
    "L2 norm (유클리드 거리): √(1² + 2²) = √5 ≈ 2.236\n",
    "L∞ norm (최대 절댓값): max(|1|, |2|) = 2\n",
    "이러한 다양한 norm을 활용하여 벡터의 크기를 측정할 수 있습니다. \n",
    "벡터의 크기를 구하는 것은 데이터 분석 및 선형 대수학 계산에서 매우 중요하며, \n",
    "numpy.linalg.norm() 함수는 이러한 연산을 효율적으로 수행할 수 있도록 도와줍니다. \n",
    " \n",
    " \"\"\"\n",
    "vector = np.array([1, 2, 3])\n",
    "norm = np.linalg.norm(vector)\n",
    "print(\"놈(Norm) :\",norm)  # 출력: 3.7416573867739413\n",
    "\n",
    "# L1 norm (맨해튼 거리) 계산\n",
    "norm_l1 = np.linalg.norm(vector, ord=1)\n",
    "print(\"맨해튼 거리: \",norm_l1) # 출력: 6.0\n",
    "\n",
    "# 제곱 norm (L2 norm의 제곱) 계산\n",
    "norm_squared = np.linalg.norm(vector, ord=2)**2\n",
    "print(\"놈의 제곱 : \",norm_squared) # 출력: 14.0"
   ]
  }
 ],
 "metadata": {
  "kernelspec": {
   "display_name": "Python 3",
   "language": "python",
   "name": "python3"
  },
  "language_info": {
   "codemirror_mode": {
    "name": "ipython",
    "version": 3
   },
   "file_extension": ".py",
   "mimetype": "text/x-python",
   "name": "python",
   "nbconvert_exporter": "python",
   "pygments_lexer": "ipython3",
   "version": "3.13.5"
  }
 },
 "nbformat": 4,
 "nbformat_minor": 5
}
