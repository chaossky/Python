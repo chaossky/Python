{
 "cells": [
  {
   "cell_type": "code",
   "execution_count": 4,
   "id": "b569ab45",
   "metadata": {},
   "outputs": [
    {
     "data": {
      "text/plain": [
       "np.int64(21)"
      ]
     },
     "execution_count": 4,
     "metadata": {},
     "output_type": "execute_result"
    }
   ],
   "source": [
    "import numpy as np\n",
    "a=np.array([0,1,2])\n",
    "b=np.array([3,5,8])\n",
    "c=np.array([13,21,34])\n",
    "\n",
    "np.dot(a,b)\n",
    "\n",
    "\n",
    "#the dot product is distrive\n"
   ]
  },
  {
   "cell_type": "code",
   "execution_count": 5,
   "id": "8d9a4440",
   "metadata": {},
   "outputs": [],
   "source": [
    "res1=np.dot(a, b + c)\n"
   ]
  },
  {
   "cell_type": "code",
   "execution_count": 4,
   "id": "a07a498d",
   "metadata": {},
   "outputs": [
    {
     "data": {
      "text/plain": [
       "np.int64(110)"
      ]
     },
     "execution_count": 4,
     "metadata": {},
     "output_type": "execute_result"
    }
   ],
   "source": [
    "res2=np.dot(a, b) + np.dot(a, c)\n",
    "res2"
   ]
  },
  {
   "cell_type": "markdown",
   "id": "a23e65b2",
   "metadata": {},
   "source": [
    "the two outcomes are the same"
   ]
  },
  {
   "cell_type": "markdown",
   "id": "c6b2ee9d",
   "metadata": {},
   "source": [
    "Geo metric definition of the dot product"
   ]
  },
  {
   "cell_type": "markdown",
   "id": "29c8378c",
   "metadata": {},
   "source": [
    "the magnitude of the two vectors, scaled by the cosine of the angle between them"
   ]
  },
  {
   "cell_type": "code",
   "execution_count": 6,
   "id": "4232f6f7",
   "metadata": {},
   "outputs": [
    {
     "data": {
      "text/plain": [
       "array([ 5.,  0.,  4., -2.])"
      ]
     },
     "execution_count": 6,
     "metadata": {},
     "output_type": "execute_result"
    }
   ],
   "source": [
    "a=np.array([5,6,8,2])\n",
    "b=np.array([1,0,.5,-1])\n",
    "a*b"
   ]
  }
 ],
 "metadata": {
  "kernelspec": {
   "display_name": "Python 3",
   "language": "python",
   "name": "python3"
  },
  "language_info": {
   "codemirror_mode": {
    "name": "ipython",
    "version": 3
   },
   "file_extension": ".py",
   "mimetype": "text/x-python",
   "name": "python",
   "nbconvert_exporter": "python",
   "pygments_lexer": "ipython3",
   "version": "3.13.5"
  }
 },
 "nbformat": 4,
 "nbformat_minor": 5
}
