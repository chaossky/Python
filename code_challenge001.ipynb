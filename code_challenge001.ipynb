{
 "cells": [
  {
   "cell_type": "code",
   "execution_count": 5,
   "id": "8a7b4798",
   "metadata": {},
   "outputs": [
    {
     "name": "stdout",
     "output_type": "stream",
     "text": [
      "18.0\n"
     ]
    }
   ],
   "source": [
    "# Loads the Pandas library, \n",
    "# commonly used for working with data in tables or labeled arrays.\n",
    "# We use pd as an alias so we can type shorter commands.\n",
    "import pandas as pd\n",
    "\n",
    "# pd.Series() creates a one-dimensional labeled array.\n",
    "s=pd.Series([10, 15,20, 25, 30])\n",
    "# print(s.mean())  # Calculates the mean (average) of the series.\n",
    "# s > 20 produces a boolean mask:\n",
    "# it checks each element to see if it's greater than 20.\n",
    "# The mask is used to filter the series.\n",
    "# s[s > 20] selects elements greater than 20.\n",
    "# s[s > 20] selects only the values where the mask is True:→ [25, 30]\n",
    "# s[s > 20] -= 5 subtracts 5 from each of those selected elements.\n",
    "# So, it changes the values 25 and 30 to 20 and 25 respectively.\n",
    "# The modified series is then assigned back to s.\n",
    "# This means that only the values greater than 20 are modified.\n",
    "# Updated Series is now:[10, 15,20, 20, 25]\n",
    "# Finally, s.mean() calculates the mean of the modified series.\n",
    "# (10 + 15 + 20 + 20 + 25) / 5 = 90 / 5 = 18.0\n",
    "\n",
    "s[s>20] -= 5;print(s.mean())  \n"
   ]
  },
  {
   "cell_type": "code",
   "execution_count": null,
   "id": "3611bd4d",
   "metadata": {},
   "outputs": [
    {
     "name": "stdout",
     "output_type": "stream",
     "text": [
      "1 2 5 7 "
     ]
    }
   ],
   "source": [
    "for i in range(1, 8):\n",
    "    if i % 3 == 0 or i % 4 == 0:\n",
    "        continue\n",
    "    print(i, end=' ')\n",
    "    \n",
    "# This code prints numbers from 1 to 7, skipping those divisible by 3 or 4.\n",
    "# The output will be: 1 2 5 7\n",
    "# This is a simple demonstration of how to use Markdown formatting.\n",
    "# Markdown is a lightweight markup language with plain text formatting syntax.\n",
    "# It is often used for formatting readme files, writing messages in online discussion forums, and creating rich text using a plain text editor.\n",
    "# This is a simple demonstration of how to use Markdown formatting.\n",
    "# The continue statement is the key here — it jumps to the next loop iteration without executing the print() for that value.\n",
    "\n",
    "    "
   ]
  }
 ],
 "metadata": {
  "kernelspec": {
   "display_name": "Python 3",
   "language": "python",
   "name": "python3"
  },
  "language_info": {
   "codemirror_mode": {
    "name": "ipython",
    "version": 3
   },
   "file_extension": ".py",
   "mimetype": "text/x-python",
   "name": "python",
   "nbconvert_exporter": "python",
   "pygments_lexer": "ipython3",
   "version": "3.13.5"
  }
 },
 "nbformat": 4,
 "nbformat_minor": 5
}
