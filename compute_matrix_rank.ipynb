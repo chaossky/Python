{
 "cells": [
  {
   "cell_type": "markdown",
   "id": "0ebaad85",
   "metadata": {},
   "source": [
    "### compute matrix rank example"
   ]
  },
  {
   "cell_type": "code",
   "execution_count": 107,
   "id": "c50e271f",
   "metadata": {},
   "outputs": [
    {
     "name": "stdout",
     "output_type": "stream",
     "text": [
      "Matrix A:\n",
      "[[ 0.03309321 -0.73053498 -0.11242559 -1.59675967  0.59187436 -0.2912448 ]\n",
      " [ 0.04731685 -1.42797335  0.44263403 -0.20064226  0.61968811 -1.47594401]\n",
      " [ 0.60835936  1.38213056 -0.21425853  0.16726463 -1.71067958 -0.05281557]]\n",
      "Matrix A Rank: 3\n",
      "Matrix B:\n",
      "[[1 1 0 0 0 1]\n",
      " [0 0 0 0 1 1]\n",
      " [1 1 1 1 0 0]]\n",
      "Matrix B Rank: 3\n"
     ]
    }
   ],
   "source": [
    "import numpy as np\n",
    "\n",
    "A=np.random.randn(3,6)\n",
    "\n",
    "print(\"Matrix A:\")\n",
    "print(A)\n",
    "r=np.linalg.matrix_rank(A)\n",
    "print(\"Matrix A Rank:\",r)\n",
    "B=np.random.randint(0, 2, (3, 6))\n",
    "print(\"Matrix B:\")\n",
    "print(B)\n",
    "print(\"Matrix B Rank:\", np.linalg.matrix_rank(B))\n"
   ]
  },
  {
   "cell_type": "code",
   "execution_count": 119,
   "id": "10fb7a26",
   "metadata": {},
   "outputs": [
    {
     "name": "stdout",
     "output_type": "stream",
     "text": [
      "Scalar s: -0.6499585535602331\n",
      "Matrix M:\n",
      "[[ 0.31353241 -0.10482263 -0.08062153 -0.24291926  0.34511971]\n",
      " [ 1.46659188  1.25881423  0.49649865 -1.4333367   1.29612081]\n",
      " [-0.3847548  -0.92059513  0.43898865  0.32980211  1.1456086 ]]\n",
      "3 3\n"
     ]
    }
   ],
   "source": [
    "s=np.random.randn()\n",
    "M=np.random.randn(3, 5)\n",
    "print(\"Scalar s:\", s)\n",
    "print(\"Matrix M:\")\n",
    "print(M)\n",
    "r1=np.linalg.matrix_rank(M)\n",
    "r2=np.linalg.matrix_rank(s*M)\n",
    "print(r1, r2)"
   ]
  }
 ],
 "metadata": {
  "kernelspec": {
   "display_name": "Python 3",
   "language": "python",
   "name": "python3"
  },
  "language_info": {
   "codemirror_mode": {
    "name": "ipython",
    "version": 3
   },
   "file_extension": ".py",
   "mimetype": "text/x-python",
   "name": "python",
   "nbconvert_exporter": "python",
   "pygments_lexer": "ipython3",
   "version": "3.13.5"
  }
 },
 "nbformat": 4,
 "nbformat_minor": 5
}
