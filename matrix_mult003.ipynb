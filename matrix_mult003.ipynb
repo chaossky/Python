{
 "cells": [
  {
   "cell_type": "code",
   "execution_count": null,
   "id": "6a7b936b",
   "metadata": {},
   "outputs": [
    {
     "name": "stdout",
     "output_type": "stream",
     "text": [
      "[[4 5 8]\n",
      " [8 7 1]\n",
      " [9 7 5]\n",
      " [3 1 7]]\n",
      "Frobenius norm of the matrix is 20.808652046684813\n",
      "L1 norm of the matrix is 24.0\n",
      "L2 norm of the matrix is 19.307748155310094\n",
      "Nuclear norm of the matrix is 28.633647278238545\n",
      "Infinity norm of the matrix is 21.0\n",
      "Negative infinity norm of the matrix is 11.0\n",
      "L1 norm of the matrix is 24.0\n",
      "L2 norm of the matrix is 19.307748155310094\n"
     ]
    }
   ],
   "source": [
    "import numpy as np\n",
    "import math\n",
    "\n",
    "A=np.random.randint(1,10,(4,3))\n",
    "print(A)\n",
    "print(\"Frobenius norm of the matrix is\", np.linalg.norm(A,'fro'))  # Frobenius norm\n",
    "print(\"L1 norm of the matrix is\", np.linalg.norm(A,1))  # L1 norm\n",
    "print(\"L2 norm of the matrix is\", np.linalg.norm(A,2))  # L2 norm\n",
    "print(\"Nuclear norm of the matrix is\", np.linalg.norm(A,'nuc')) # Nuclear norm\n",
    "\n",
    "print(\"Infinity norm of the matrix is\", np.linalg.norm(A, np.inf))  # Infinity norm\n",
    "print(\"Negative infinity norm of the matrix is\", np.linalg.norm(A, -np.inf))  # Negative infinity norm\n",
    "print(\"L1 norm of the matrix is\", np.linalg.norm(A, ord=1))  # L1 norm (alternative syntax)\n",
    "print(\"L2 norm of the matrix is\", np.linalg.norm(A, ord=2))  # L2 norm (alternative syntax)\n"
   ]
  },
  {
   "cell_type": "markdown",
   "id": "3b4684ce",
   "metadata": {},
   "source": [
    "##### Forbenius Matrix Norm"
   ]
  },
  {
   "cell_type": "code",
   "execution_count": 8,
   "id": "a7bf9e2d",
   "metadata": {},
   "outputs": [
    {
     "name": "stdout",
     "output_type": "stream",
     "text": [
      "Matrix B:\n",
      "[[2 9 7]\n",
      " [6 6 8]\n",
      " [5 2 1]\n",
      " [4 3 5]]\n",
      "\n",
      "Euclidean distance between matrices A and B: 11.874342087037917\n"
     ]
    }
   ],
   "source": [
    "# Create another matrix B of the same shape as A\n",
    "B = np.random.randint(1, 10, (4, 3))\n",
    "print(\"Matrix B:\")\n",
    "print(B)\n",
    "\n",
    "# Compute Euclidean distance between A and B\n",
    "euclidean_distance = np.linalg.norm(A - B, 'fro')\n",
    "print(\"\\nEuclidean distance between matrices A and B:\", euclidean_distance)"
   ]
  },
  {
   "cell_type": "code",
   "execution_count": 12,
   "id": "5a76da98",
   "metadata": {},
   "outputs": [
    {
     "name": "stdout",
     "output_type": "stream",
     "text": [
      "17.944358444926362\n",
      "Euclidean distance between E1 and E2: 17.944358444926362\n",
      "[[-3  4]\n",
      " [10 10]\n",
      " [-4 -9]]\n",
      "\n",
      "Euclidean distance between matrices E1 and E2: 17.944358444926362\n"
     ]
    }
   ],
   "source": [
    "E1=np.array([[4,2],[3, 2], [-5, -1]])\n",
    "E2=np.array([[7,-2],[-7, -8], [-1, 8]])\n",
    "\n",
    "euclidean_distance_E1_E2 = np.linalg.norm(E1 - E2, 'fro')\n",
    "\n",
    "result=math.sqrt(322)\n",
    "print(result)\n",
    "dist1=np.linalg.matrix_norm(E1-E2, ord='fro')\n",
    "print(\"Euclidean distance between E1 and E2:\", dist1)\n",
    "print(E1-E2)\n",
    "print(\"\\nEuclidean distance between matrices E1 and E2:\", euclidean_distance_E1_E2)\n"
   ]
  },
  {
   "cell_type": "code",
   "execution_count": null,
   "id": "e00c8b24",
   "metadata": {},
   "outputs": [],
   "source": [
    "F1=np.array([[6,1, 2], [3,3,-2]])\n",
    "F2=np.array([[4, -11, 1], [6, 1, -2]])\n",
    "print(\"F1-F2 : \")\n",
    "print((F1-F2))\n",
    "euclidean_distance_F1_F2 = np.linalg.norm(F1 - F2, 'fro')\n",
    "print(\"Euclidean distance between F1 and F2:\", euclidean_distance_F1_F2)"
   ]
  }
 ],
 "metadata": {
  "kernelspec": {
   "display_name": "Python 3",
   "language": "python",
   "name": "python3"
  },
  "language_info": {
   "codemirror_mode": {
    "name": "ipython",
    "version": 3
   },
   "file_extension": ".py",
   "mimetype": "text/x-python",
   "name": "python",
   "nbconvert_exporter": "python",
   "pygments_lexer": "ipython3",
   "version": "3.13.5"
  }
 },
 "nbformat": 4,
 "nbformat_minor": 5
}
