{
 "cells": [
  {
   "cell_type": "code",
   "execution_count": 4,
   "id": "7c60500d",
   "metadata": {},
   "outputs": [
    {
     "name": "stdout",
     "output_type": "stream",
     "text": [
      "The answer is = ( 5.736161146605346  ,  -2.3213885435806363 )\n",
      "The magnitude is =  6.188084475028778\n",
      "The angle is =  337.96712860111575\n"
     ]
    }
   ],
   "source": [
    "# This script calculates the resultant vector from two vectors given their magnitudes and angles.\n",
    "# The angles are provided in degrees and the result is printed in a formatted manner.\n",
    "import math\n",
    "from math import pi, cos, sin   \n",
    "v=8.0\n",
    "w=6.0\n",
    "v_theta=290.0\n",
    "w_theta=60.0\n",
    "\n",
    "i=v*cos(v_theta*pi/180.0)+w*cos(w_theta*pi/180.0)\n",
    "j=v*sin(v_theta*pi/180.0)+w*sin(w_theta*pi/180.0)\n",
    "##print(\"i = \", i)\n",
    "##print(\"j = \", j)\n",
    "magnitude=math.sqrt(i**2+j**2)\n",
    "angle=math.atan2(j,i)*180.0/pi\n",
    "if angle < 0:\n",
    "    angle += 360.0\n",
    "    \n",
    "    \n",
    "print(\"The answer is = (\", i,\" , \",j,\")\")\n",
    "print(\"The magnitude is = \", magnitude)\n",
    "print(\"The angle is = \", angle)"
   ]
  }
 ],
 "metadata": {
  "kernelspec": {
   "display_name": "Python 3",
   "language": "python",
   "name": "python3"
  },
  "language_info": {
   "codemirror_mode": {
    "name": "ipython",
    "version": 3
   },
   "file_extension": ".py",
   "mimetype": "text/x-python",
   "name": "python",
   "nbconvert_exporter": "python",
   "pygments_lexer": "ipython3",
   "version": "3.13.5"
  }
 },
 "nbformat": 4,
 "nbformat_minor": 5
}
