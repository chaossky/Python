{
 "cells": [
  {
   "cell_type": "code",
   "execution_count": 33,
   "id": "ef5cdd2e",
   "metadata": {},
   "outputs": [],
   "source": [
    "import pandas as pd"
   ]
  },
  {
   "cell_type": "code",
   "execution_count": 35,
   "id": "b8578439",
   "metadata": {},
   "outputs": [
    {
     "data": {
      "text/plain": [
       "(   number name gender grade    class              ID          phone  \\\n",
       " 0     NaN  황현서      남   1학년     Mary  180228-3001914  010-6555-6668   \n",
       " 1     NaN  권하선      여   1학년     Noah  180314-4212613  010-4042-5366   \n",
       " 2     NaN  신채은      여   1학년     Ruth  180308-4041617  010-9983-8572   \n",
       " 3     NaN  이다원      남   1학년     Mary  191004-3058317  010-9625-0506   \n",
       " 4     NaN   서봄      여   1학년  Abraham  181013-4070813  010-3003-0118   \n",
       " \n",
       "                                              caution               date  \\\n",
       " 0                                                 없음  8월 8일~8월 9일 모두 가능   \n",
       " 1  눈이 간지러울때  눈을 비비면 눈 주위 알러지로 눈이 붓게 됩니다. (먹는 상비약과...  8월 8일~8월 9일 모두 가능   \n",
       " 2                              아빠가 신동호선생님이라 저녁약먹일 예정  8월 8일~8월 9일 모두 가능   \n",
       " 3                                                 없음  8월 8일~8월 9일 모두 가능   \n",
       " 4                                         매운 음식 못 먹음  8월 8일~8월 9일 모두 가능   \n",
       " \n",
       "   due_date area  \n",
       " 0      NaN  NaN  \n",
       " 1      NaN  NaN  \n",
       " 2      NaN  NaN  \n",
       " 3      NaN  NaN  \n",
       " 4      NaN  NaN  ,\n",
       " Index(['number', 'name', 'gender', 'grade', 'class', 'ID', 'phone', 'caution',\n",
       "        'date', 'due_date', 'area'],\n",
       "       dtype='object'))"
      ]
     },
     "execution_count": 35,
     "metadata": {},
     "output_type": "execute_result"
    }
   ],
   "source": [
    "file_path = \"D:\\\\DevOPS\\\\Python\\\\CebC\\\\ANS.xlsx\"\n",
    "df = pd.read_excel(file_path)\n",
    "\n",
    "# Display the first few rows and the column names to understand the structure\n",
    "df.head(), df.columns"
   ]
  },
  {
   "cell_type": "code",
   "execution_count": 37,
   "id": "c0124a55",
   "metadata": {},
   "outputs": [
    {
     "name": "stdout",
     "output_type": "stream",
     "text": [
      "Index(['number', 'name', 'gender', 'grade', 'class', 'ID', 'phone', 'caution',\n",
      "       'date', 'due_date', 'area'],\n",
      "      dtype='object')\n"
     ]
    }
   ],
   "source": [
    "print(df.columns)"
   ]
  },
  {
   "cell_type": "code",
   "execution_count": 13,
   "id": "0954c100",
   "metadata": {},
   "outputs": [
    {
     "data": {
      "text/plain": [
       "{'1학년': ['황현서',\n",
       "  '권하선',\n",
       "  '신채은',\n",
       "  '이다원',\n",
       "  '서봄',\n",
       "  '양승헌',\n",
       "  '안하엘',\n",
       "  '정희민',\n",
       "  '손다온',\n",
       "  '김리원',\n",
       "  '김리나',\n",
       "  '신지안',\n",
       "  '이희온',\n",
       "  '박하린',\n",
       "  '이시은'],\n",
       " '2학년': ['김리한', '조아린', '빙서은', '박류찬', '송다희 ', '양주원', '장다솔', '김지아'],\n",
       " '3학년': ['이선율', '김주아', '정서연', '이주찬', '김예찬', '이도이', '이지온', '이시우', '김윤아', '안우영'],\n",
       " '4학년': ['이서율',\n",
       "  '박연서',\n",
       "  '이아인',\n",
       "  '박한별',\n",
       "  '남강현',\n",
       "  '전하랑',\n",
       "  '강은채',\n",
       "  '공환희',\n",
       "  '조반희',\n",
       "  '탁준',\n",
       "  '이주원',\n",
       "  '양예원'],\n",
       " '5학년': ['이다솔', '탁윤', '박지유', '장승오', '엄태준', '민엘리', '장진', '이주호', '이남우', '이시현'],\n",
       " '6학년': ['박연준',\n",
       "  '김나은',\n",
       "  '남강우',\n",
       "  '박예원 ',\n",
       "  '전하영',\n",
       "  '이선아',\n",
       "  '빙서윤',\n",
       "  '정유진',\n",
       "  '윤빛',\n",
       "  '이재이',\n",
       "  '박류건',\n",
       "  '김소연']}"
      ]
     },
     "execution_count": 13,
     "metadata": {},
     "output_type": "execute_result"
    }
   ],
   "source": [
    "grade_col = 'grade'\n",
    "name_col = 'name'\n",
    "# 학년 정보만 필터링 (예: \"초등 1학년\", \"중등 2학년\" 등으로 시작하는 경우)\n",
    "student_rows = df[df[grade_col].str.contains('학년', na=False)]\n",
    "\n",
    "# 학년별로 이름을 리스트로 분류\n",
    "grade_groups = student_rows.groupby(grade_col)[name_col].apply(list).to_dict()\n",
    "\n",
    "grade_groups"
   ]
  },
  {
   "cell_type": "code",
   "execution_count": null,
   "id": "7a9b3cea",
   "metadata": {},
   "outputs": [],
   "source": []
  },
  {
   "cell_type": "code",
   "execution_count": 43,
   "id": "ba115e6f",
   "metadata": {
    "notebookRunGroups": {
     "groupValue": "1"
    }
   },
   "outputs": [
    {
     "data": {
      "text/plain": [
       "({'1반': ['신채은', '김예찬', '양승헌', '박류찬', '송다희 ', '정서연', '양주원', '김리한', '손다온'],\n",
       "  '2반': ['빙서은', '김지아', '권하선', '신지안', '박하린', '이지온', '이도이', '이다원'],\n",
       "  '3반': ['김리나', '정희민', '김리원', '김윤아', '이선율', '안하엘', '이시은', '안우영'],\n",
       "  '4반': ['이시우', '조아린', '장다솔', '이주찬', '황현서', '이희온', '김주아', '서봄']},\n",
       " {'1반': ['이주호', '이다솔', '강은채', '남강현', '박한별', '탁준', '전하영', '장승오', '박연서'],\n",
       "  '2반': ['장진', '이남우', '조반희', '박예원 ', '김소연', '정유진', '양예원', '이재이', '이선아'],\n",
       "  '3반': ['김나은', '이아인', '빙서윤', '이주원', '탁윤', '윤빛', '공환희', '남강우'],\n",
       "  '4반': ['박연준', '엄태준', '박류건', '전하랑', '이서율', '이시현', '민엘리', '박지유']})"
      ]
     },
     "execution_count": 43,
     "metadata": {},
     "output_type": "execute_result"
    }
   ],
   "source": [
    "import random\n",
    "from collections import defaultdict\n",
    "\n",
    "# 고정된 시드를 줘서 결과 재현 가능하게 하기\n",
    "random.seed(1)##초기에는 42를 주었으며, 숫자를 바꾸면 결과가 달라짐\n",
    "\n",
    "# 1~3학년 학생 리스트\n",
    "lower_grades = grade_groups['1학년'] + grade_groups['2학년'] + grade_groups['3학년']\n",
    "# 4~6학년 학생 리스트\n",
    "upper_grades = grade_groups['4학년'] + grade_groups['5학년'] + grade_groups['6학년']\n",
    "\n",
    "# 섞기\n",
    "random.shuffle(lower_grades)\n",
    "random.shuffle(upper_grades)\n",
    "\n",
    "# 4반으로 균등하게 나누기 위한 함수\n",
    "def split_into_classes(students, num_classes=4):\n",
    "    classes = defaultdict(list)\n",
    "    for i, student in enumerate(students):\n",
    "        class_num = (i % num_classes) + 1\n",
    "        classes[f'{class_num}반'].append(student)\n",
    "    return dict(classes)\n",
    "\n",
    "# 반편성\n",
    "lower_grade_classes = split_into_classes(lower_grades, 4)\n",
    "upper_grade_classes = split_into_classes(upper_grades, 4)\n",
    "\n",
    "lower_grade_classes, upper_grade_classes\n"
   ]
  },
  {
   "cell_type": "code",
   "execution_count": null,
   "id": "979348d6",
   "metadata": {},
   "outputs": [],
   "source": []
  }
 ],
 "metadata": {
  "kernelspec": {
   "display_name": "Python 3",
   "language": "python",
   "name": "python3"
  },
  "language_info": {
   "codemirror_mode": {
    "name": "ipython",
    "version": 3
   },
   "file_extension": ".py",
   "mimetype": "text/x-python",
   "name": "python",
   "nbconvert_exporter": "python",
   "pygments_lexer": "ipython3",
   "version": "3.13.5"
  }
 },
 "nbformat": 4,
 "nbformat_minor": 5
}
